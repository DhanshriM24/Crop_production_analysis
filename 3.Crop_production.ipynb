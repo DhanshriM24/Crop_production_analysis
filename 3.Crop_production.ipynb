{
 "cells": [
  {
   "cell_type": "code",
   "execution_count": 1,
   "id": "98d6d396",
   "metadata": {},
   "outputs": [],
   "source": [
    "import pandas as pd\n",
    "import numpy as np\n",
    "import matplotlib.pyplot as plt\n",
    "import seaborn as sns"
   ]
  },
  {
   "cell_type": "markdown",
   "id": "e05f6bec",
   "metadata": {},
   "source": [
    "# Load data"
   ]
  },
  {
   "cell_type": "code",
   "execution_count": 2,
   "id": "f6c52b9c",
   "metadata": {},
   "outputs": [],
   "source": [
    "df=pd.read_csv(\"2.crop_production.csv\")"
   ]
  },
  {
   "cell_type": "code",
   "execution_count": 3,
   "id": "4c793e43",
   "metadata": {},
   "outputs": [
    {
     "data": {
      "text/html": [
       "<div>\n",
       "<style scoped>\n",
       "    .dataframe tbody tr th:only-of-type {\n",
       "        vertical-align: middle;\n",
       "    }\n",
       "\n",
       "    .dataframe tbody tr th {\n",
       "        vertical-align: top;\n",
       "    }\n",
       "\n",
       "    .dataframe thead th {\n",
       "        text-align: right;\n",
       "    }\n",
       "</style>\n",
       "<table border=\"1\" class=\"dataframe\">\n",
       "  <thead>\n",
       "    <tr style=\"text-align: right;\">\n",
       "      <th></th>\n",
       "      <th>State_Name</th>\n",
       "      <th>District_Name</th>\n",
       "      <th>Crop_Year</th>\n",
       "      <th>Season</th>\n",
       "      <th>Crop</th>\n",
       "      <th>Area</th>\n",
       "      <th>Production</th>\n",
       "    </tr>\n",
       "  </thead>\n",
       "  <tbody>\n",
       "    <tr>\n",
       "      <th>0</th>\n",
       "      <td>Andaman and Nicobar Islands</td>\n",
       "      <td>NICOBARS</td>\n",
       "      <td>2000</td>\n",
       "      <td>Kharif</td>\n",
       "      <td>Arecanut</td>\n",
       "      <td>1254.0</td>\n",
       "      <td>2000.0</td>\n",
       "    </tr>\n",
       "    <tr>\n",
       "      <th>1</th>\n",
       "      <td>Andaman and Nicobar Islands</td>\n",
       "      <td>NICOBARS</td>\n",
       "      <td>2000</td>\n",
       "      <td>Kharif</td>\n",
       "      <td>Other Kharif pulses</td>\n",
       "      <td>2.0</td>\n",
       "      <td>1.0</td>\n",
       "    </tr>\n",
       "    <tr>\n",
       "      <th>2</th>\n",
       "      <td>Andaman and Nicobar Islands</td>\n",
       "      <td>NICOBARS</td>\n",
       "      <td>2000</td>\n",
       "      <td>Kharif</td>\n",
       "      <td>Rice</td>\n",
       "      <td>102.0</td>\n",
       "      <td>321.0</td>\n",
       "    </tr>\n",
       "    <tr>\n",
       "      <th>3</th>\n",
       "      <td>Andaman and Nicobar Islands</td>\n",
       "      <td>NICOBARS</td>\n",
       "      <td>2000</td>\n",
       "      <td>Whole Year</td>\n",
       "      <td>Banana</td>\n",
       "      <td>176.0</td>\n",
       "      <td>641.0</td>\n",
       "    </tr>\n",
       "    <tr>\n",
       "      <th>4</th>\n",
       "      <td>Andaman and Nicobar Islands</td>\n",
       "      <td>NICOBARS</td>\n",
       "      <td>2000</td>\n",
       "      <td>Whole Year</td>\n",
       "      <td>Cashewnut</td>\n",
       "      <td>720.0</td>\n",
       "      <td>165.0</td>\n",
       "    </tr>\n",
       "    <tr>\n",
       "      <th>...</th>\n",
       "      <td>...</td>\n",
       "      <td>...</td>\n",
       "      <td>...</td>\n",
       "      <td>...</td>\n",
       "      <td>...</td>\n",
       "      <td>...</td>\n",
       "      <td>...</td>\n",
       "    </tr>\n",
       "    <tr>\n",
       "      <th>246086</th>\n",
       "      <td>West Bengal</td>\n",
       "      <td>PURULIA</td>\n",
       "      <td>2014</td>\n",
       "      <td>Summer</td>\n",
       "      <td>Rice</td>\n",
       "      <td>306.0</td>\n",
       "      <td>801.0</td>\n",
       "    </tr>\n",
       "    <tr>\n",
       "      <th>246087</th>\n",
       "      <td>West Bengal</td>\n",
       "      <td>PURULIA</td>\n",
       "      <td>2014</td>\n",
       "      <td>Summer</td>\n",
       "      <td>Sesamum</td>\n",
       "      <td>627.0</td>\n",
       "      <td>463.0</td>\n",
       "    </tr>\n",
       "    <tr>\n",
       "      <th>246088</th>\n",
       "      <td>West Bengal</td>\n",
       "      <td>PURULIA</td>\n",
       "      <td>2014</td>\n",
       "      <td>Whole Year</td>\n",
       "      <td>Sugarcane</td>\n",
       "      <td>324.0</td>\n",
       "      <td>16250.0</td>\n",
       "    </tr>\n",
       "    <tr>\n",
       "      <th>246089</th>\n",
       "      <td>West Bengal</td>\n",
       "      <td>PURULIA</td>\n",
       "      <td>2014</td>\n",
       "      <td>Winter</td>\n",
       "      <td>Rice</td>\n",
       "      <td>279151.0</td>\n",
       "      <td>597899.0</td>\n",
       "    </tr>\n",
       "    <tr>\n",
       "      <th>246090</th>\n",
       "      <td>West Bengal</td>\n",
       "      <td>PURULIA</td>\n",
       "      <td>2014</td>\n",
       "      <td>Winter</td>\n",
       "      <td>Sesamum</td>\n",
       "      <td>175.0</td>\n",
       "      <td>88.0</td>\n",
       "    </tr>\n",
       "  </tbody>\n",
       "</table>\n",
       "<p>246091 rows × 7 columns</p>\n",
       "</div>"
      ],
      "text/plain": [
       "                         State_Name District_Name  Crop_Year       Season  \\\n",
       "0       Andaman and Nicobar Islands      NICOBARS       2000  Kharif        \n",
       "1       Andaman and Nicobar Islands      NICOBARS       2000  Kharif        \n",
       "2       Andaman and Nicobar Islands      NICOBARS       2000  Kharif        \n",
       "3       Andaman and Nicobar Islands      NICOBARS       2000  Whole Year    \n",
       "4       Andaman and Nicobar Islands      NICOBARS       2000  Whole Year    \n",
       "...                             ...           ...        ...          ...   \n",
       "246086                  West Bengal       PURULIA       2014  Summer        \n",
       "246087                  West Bengal       PURULIA       2014  Summer        \n",
       "246088                  West Bengal       PURULIA       2014  Whole Year    \n",
       "246089                  West Bengal       PURULIA       2014  Winter        \n",
       "246090                  West Bengal       PURULIA       2014  Winter        \n",
       "\n",
       "                       Crop      Area  Production  \n",
       "0                  Arecanut    1254.0      2000.0  \n",
       "1       Other Kharif pulses       2.0         1.0  \n",
       "2                      Rice     102.0       321.0  \n",
       "3                    Banana     176.0       641.0  \n",
       "4                 Cashewnut     720.0       165.0  \n",
       "...                     ...       ...         ...  \n",
       "246086                 Rice     306.0       801.0  \n",
       "246087              Sesamum     627.0       463.0  \n",
       "246088            Sugarcane     324.0     16250.0  \n",
       "246089                 Rice  279151.0    597899.0  \n",
       "246090              Sesamum     175.0        88.0  \n",
       "\n",
       "[246091 rows x 7 columns]"
      ]
     },
     "execution_count": 3,
     "metadata": {},
     "output_type": "execute_result"
    }
   ],
   "source": [
    "df"
   ]
  },
  {
   "cell_type": "code",
   "execution_count": 4,
   "id": "ea708aab",
   "metadata": {},
   "outputs": [
    {
     "data": {
      "text/plain": [
       "(246091, 7)"
      ]
     },
     "execution_count": 4,
     "metadata": {},
     "output_type": "execute_result"
    }
   ],
   "source": [
    "df.shape"
   ]
  },
  {
   "cell_type": "code",
   "execution_count": 5,
   "id": "61eb9c1f",
   "metadata": {},
   "outputs": [
    {
     "name": "stdout",
     "output_type": "stream",
     "text": [
      "<class 'pandas.core.frame.DataFrame'>\n",
      "RangeIndex: 246091 entries, 0 to 246090\n",
      "Data columns (total 7 columns):\n",
      " #   Column         Non-Null Count   Dtype  \n",
      "---  ------         --------------   -----  \n",
      " 0   State_Name     246091 non-null  object \n",
      " 1   District_Name  246091 non-null  object \n",
      " 2   Crop_Year      246091 non-null  int64  \n",
      " 3   Season         246091 non-null  object \n",
      " 4   Crop           246091 non-null  object \n",
      " 5   Area           246091 non-null  float64\n",
      " 6   Production     242361 non-null  float64\n",
      "dtypes: float64(2), int64(1), object(4)\n",
      "memory usage: 13.1+ MB\n"
     ]
    }
   ],
   "source": [
    "df.info()"
   ]
  },
  {
   "cell_type": "markdown",
   "id": "0afb1e00",
   "metadata": {},
   "source": [
    "# Attributes\n",
    "\n",
    "State_name = Name of States in India <br>\n",
    "Districts_Name = Name of Districts in India  <br>\n",
    "Crop_Year = Year of Crop Production <br>\n",
    "Season = Season of the Crops  <br>\n",
    "Crop = Name of the Crop Sown  <br>\n",
    "Area = Area Under cultivation (Numerical) <br>\n",
    "Production = Production of the crops (Numerical) <br>\n"
   ]
  },
  {
   "cell_type": "markdown",
   "id": "1071d11a",
   "metadata": {},
   "source": [
    "### PANDAS PROFILE REPORT"
   ]
  },
  {
   "cell_type": "code",
   "execution_count": 6,
   "id": "9fb7b202",
   "metadata": {},
   "outputs": [],
   "source": [
    "from pandas_profiling import ProfileReport"
   ]
  },
  {
   "cell_type": "code",
   "execution_count": 7,
   "id": "a969aead",
   "metadata": {},
   "outputs": [],
   "source": [
    "profile=ProfileReport(df,title=\"pandas profile report\")"
   ]
  },
  {
   "cell_type": "code",
   "execution_count": 8,
   "id": "f1af0a72",
   "metadata": {},
   "outputs": [
    {
     "data": {
      "application/vnd.jupyter.widget-view+json": {
       "model_id": "3fb677e1012845b9a3000036cb5ad27f",
       "version_major": 2,
       "version_minor": 0
      },
      "text/plain": [
       "Summarize dataset:   0%|          | 0/5 [00:00<?, ?it/s]"
      ]
     },
     "metadata": {},
     "output_type": "display_data"
    },
    {
     "data": {
      "application/vnd.jupyter.widget-view+json": {
       "model_id": "114ed8f221174cfea514bd4301524acf",
       "version_major": 2,
       "version_minor": 0
      },
      "text/plain": [
       "Generate report structure:   0%|          | 0/1 [00:00<?, ?it/s]"
      ]
     },
     "metadata": {},
     "output_type": "display_data"
    },
    {
     "data": {
      "application/vnd.jupyter.widget-view+json": {
       "model_id": "",
       "version_major": 2,
       "version_minor": 0
      },
      "text/plain": [
       "Render widgets:   0%|          | 0/1 [00:00<?, ?it/s]"
      ]
     },
     "metadata": {},
     "output_type": "display_data"
    },
    {
     "data": {
      "application/vnd.jupyter.widget-view+json": {
       "model_id": "d17419f59a3d41f08a37901d31a40da4",
       "version_major": 2,
       "version_minor": 0
      },
      "text/plain": [
       "VBox(children=(Tab(children=(Tab(children=(GridBox(children=(VBox(children=(GridspecLayout(children=(HTML(valu…"
      ]
     },
     "metadata": {},
     "output_type": "display_data"
    }
   ],
   "source": [
    "profile.to_widgets()"
   ]
  },
  {
   "cell_type": "code",
   "execution_count": 9,
   "id": "e52136a3",
   "metadata": {},
   "outputs": [
    {
     "data": {
      "text/plain": [
       "State_Name          0\n",
       "District_Name       0\n",
       "Crop_Year           0\n",
       "Season              0\n",
       "Crop                0\n",
       "Area                0\n",
       "Production       3730\n",
       "dtype: int64"
      ]
     },
     "execution_count": 9,
     "metadata": {},
     "output_type": "execute_result"
    }
   ],
   "source": [
    "#Checking null value\n",
    "df.isnull().sum()"
   ]
  },
  {
   "cell_type": "code",
   "execution_count": 10,
   "id": "7ad5709a",
   "metadata": {},
   "outputs": [],
   "source": [
    "# we have approx 243000 rows and out of that 3730 were null so we decided to drop these rows for better analysis\n",
    "\n",
    "df.dropna(inplace=True)"
   ]
  },
  {
   "cell_type": "code",
   "execution_count": 11,
   "id": "b1981db4",
   "metadata": {},
   "outputs": [
    {
     "data": {
      "text/plain": [
       "State_Name       0\n",
       "District_Name    0\n",
       "Crop_Year        0\n",
       "Season           0\n",
       "Crop             0\n",
       "Area             0\n",
       "Production       0\n",
       "dtype: int64"
      ]
     },
     "execution_count": 11,
     "metadata": {},
     "output_type": "execute_result"
    }
   ],
   "source": [
    "# after droping null values\n",
    "\n",
    "df.isnull().sum()"
   ]
  },
  {
   "cell_type": "markdown",
   "id": "8283367e",
   "metadata": {},
   "source": [
    "### Describing the basic statistics of the data."
   ]
  },
  {
   "cell_type": "code",
   "execution_count": 12,
   "id": "a09e77e6",
   "metadata": {},
   "outputs": [
    {
     "data": {
      "text/html": [
       "<div>\n",
       "<style scoped>\n",
       "    .dataframe tbody tr th:only-of-type {\n",
       "        vertical-align: middle;\n",
       "    }\n",
       "\n",
       "    .dataframe tbody tr th {\n",
       "        vertical-align: top;\n",
       "    }\n",
       "\n",
       "    .dataframe thead th {\n",
       "        text-align: right;\n",
       "    }\n",
       "</style>\n",
       "<table border=\"1\" class=\"dataframe\">\n",
       "  <thead>\n",
       "    <tr style=\"text-align: right;\">\n",
       "      <th></th>\n",
       "      <th>Crop_Year</th>\n",
       "      <th>Area</th>\n",
       "      <th>Production</th>\n",
       "    </tr>\n",
       "  </thead>\n",
       "  <tbody>\n",
       "    <tr>\n",
       "      <th>count</th>\n",
       "      <td>242361.000000</td>\n",
       "      <td>2.423610e+05</td>\n",
       "      <td>2.423610e+05</td>\n",
       "    </tr>\n",
       "    <tr>\n",
       "      <th>mean</th>\n",
       "      <td>2005.625773</td>\n",
       "      <td>1.216741e+04</td>\n",
       "      <td>5.825034e+05</td>\n",
       "    </tr>\n",
       "    <tr>\n",
       "      <th>std</th>\n",
       "      <td>4.958285</td>\n",
       "      <td>5.085744e+04</td>\n",
       "      <td>1.706581e+07</td>\n",
       "    </tr>\n",
       "    <tr>\n",
       "      <th>min</th>\n",
       "      <td>1997.000000</td>\n",
       "      <td>1.000000e-01</td>\n",
       "      <td>0.000000e+00</td>\n",
       "    </tr>\n",
       "    <tr>\n",
       "      <th>25%</th>\n",
       "      <td>2002.000000</td>\n",
       "      <td>8.700000e+01</td>\n",
       "      <td>8.800000e+01</td>\n",
       "    </tr>\n",
       "    <tr>\n",
       "      <th>50%</th>\n",
       "      <td>2006.000000</td>\n",
       "      <td>6.030000e+02</td>\n",
       "      <td>7.290000e+02</td>\n",
       "    </tr>\n",
       "    <tr>\n",
       "      <th>75%</th>\n",
       "      <td>2010.000000</td>\n",
       "      <td>4.545000e+03</td>\n",
       "      <td>7.023000e+03</td>\n",
       "    </tr>\n",
       "    <tr>\n",
       "      <th>max</th>\n",
       "      <td>2015.000000</td>\n",
       "      <td>8.580100e+06</td>\n",
       "      <td>1.250800e+09</td>\n",
       "    </tr>\n",
       "  </tbody>\n",
       "</table>\n",
       "</div>"
      ],
      "text/plain": [
       "           Crop_Year          Area    Production\n",
       "count  242361.000000  2.423610e+05  2.423610e+05\n",
       "mean     2005.625773  1.216741e+04  5.825034e+05\n",
       "std         4.958285  5.085744e+04  1.706581e+07\n",
       "min      1997.000000  1.000000e-01  0.000000e+00\n",
       "25%      2002.000000  8.700000e+01  8.800000e+01\n",
       "50%      2006.000000  6.030000e+02  7.290000e+02\n",
       "75%      2010.000000  4.545000e+03  7.023000e+03\n",
       "max      2015.000000  8.580100e+06  1.250800e+09"
      ]
     },
     "execution_count": 12,
     "metadata": {},
     "output_type": "execute_result"
    }
   ],
   "source": [
    "df.describe()"
   ]
  },
  {
   "cell_type": "code",
   "execution_count": 13,
   "id": "48ce73fd",
   "metadata": {},
   "outputs": [
    {
     "data": {
      "text/plain": [
       "State_Name          33\n",
       "District_Name      646\n",
       "Crop_Year           19\n",
       "Season               6\n",
       "Crop               124\n",
       "Area             38391\n",
       "Production       51627\n",
       "dtype: int64"
      ]
     },
     "execution_count": 13,
     "metadata": {},
     "output_type": "execute_result"
    }
   ],
   "source": [
    "df.nunique()"
   ]
  },
  {
   "cell_type": "markdown",
   "id": "72f70d31",
   "metadata": {},
   "source": [
    "### Checking Unique Values In State_name"
   ]
  },
  {
   "cell_type": "code",
   "execution_count": 14,
   "id": "8907379d",
   "metadata": {},
   "outputs": [
    {
     "data": {
      "text/plain": [
       "array(['Andaman and Nicobar Islands', 'Andhra Pradesh',\n",
       "       'Arunachal Pradesh', 'Assam', 'Bihar', 'Chandigarh',\n",
       "       'Chhattisgarh', 'Dadra and Nagar Haveli', 'Goa', 'Gujarat',\n",
       "       'Haryana', 'Himachal Pradesh', 'Jammu and Kashmir ', 'Jharkhand',\n",
       "       'Karnataka', 'Kerala', 'Madhya Pradesh', 'Maharashtra', 'Manipur',\n",
       "       'Meghalaya', 'Mizoram', 'Nagaland', 'Odisha', 'Puducherry',\n",
       "       'Punjab', 'Rajasthan', 'Sikkim', 'Tamil Nadu', 'Telangana ',\n",
       "       'Tripura', 'Uttar Pradesh', 'Uttarakhand', 'West Bengal'],\n",
       "      dtype=object)"
      ]
     },
     "execution_count": 14,
     "metadata": {},
     "output_type": "execute_result"
    }
   ],
   "source": [
    "df.State_Name.unique()"
   ]
  },
  {
   "cell_type": "markdown",
   "id": "956fa9b0",
   "metadata": {},
   "source": [
    "### Checking Unique Values In District_name"
   ]
  },
  {
   "cell_type": "code",
   "execution_count": 15,
   "id": "0edc0a39",
   "metadata": {},
   "outputs": [
    {
     "data": {
      "text/plain": [
       "array(['NICOBARS', 'NORTH AND MIDDLE ANDAMAN', 'SOUTH ANDAMANS',\n",
       "       'ANANTAPUR', 'CHITTOOR', 'EAST GODAVARI', 'GUNTUR', 'KADAPA',\n",
       "       'KRISHNA', 'KURNOOL', 'PRAKASAM', 'SPSR NELLORE', 'SRIKAKULAM',\n",
       "       'VISAKHAPATANAM', 'VIZIANAGARAM', 'WEST GODAVARI', 'ANJAW',\n",
       "       'CHANGLANG', 'DIBANG VALLEY', 'EAST KAMENG', 'EAST SIANG',\n",
       "       'KURUNG KUMEY', 'LOHIT', 'LONGDING', 'LOWER DIBANG VALLEY',\n",
       "       'LOWER SUBANSIRI', 'NAMSAI', 'PAPUM PARE', 'TAWANG', 'TIRAP',\n",
       "       'UPPER SIANG', 'UPPER SUBANSIRI', 'WEST KAMENG', 'WEST SIANG',\n",
       "       'BAKSA', 'BARPETA', 'BONGAIGAON', 'CACHAR', 'CHIRANG', 'DARRANG',\n",
       "       'DHEMAJI', 'DHUBRI', 'DIBRUGARH', 'DIMA HASAO', 'GOALPARA',\n",
       "       'GOLAGHAT', 'HAILAKANDI', 'JORHAT', 'KAMRUP', 'KAMRUP METRO',\n",
       "       'KARBI ANGLONG', 'KARIMGANJ', 'KOKRAJHAR', 'LAKHIMPUR', 'MARIGAON',\n",
       "       'NAGAON', 'NALBARI', 'SIVASAGAR', 'SONITPUR', 'TINSUKIA',\n",
       "       'UDALGURI', 'ARARIA', 'ARWAL', 'AURANGABAD', 'BANKA', 'BEGUSARAI',\n",
       "       'BHAGALPUR', 'BHOJPUR', 'BUXAR', 'DARBHANGA', 'GAYA', 'GOPALGANJ',\n",
       "       'JAMUI', 'JEHANABAD', 'KAIMUR (BHABUA)', 'KATIHAR', 'KHAGARIA',\n",
       "       'KISHANGANJ', 'LAKHISARAI', 'MADHEPURA', 'MADHUBANI', 'MUNGER',\n",
       "       'MUZAFFARPUR', 'NALANDA', 'NAWADA', 'PASHCHIM CHAMPARAN', 'PATNA',\n",
       "       'PURBI CHAMPARAN', 'PURNIA', 'ROHTAS', 'SAHARSA', 'SAMASTIPUR',\n",
       "       'SARAN', 'SHEIKHPURA', 'SHEOHAR', 'SITAMARHI', 'SIWAN', 'SUPAUL',\n",
       "       'VAISHALI', 'CHANDIGARH', 'BALOD', 'BALODA BAZAR', 'BALRAMPUR',\n",
       "       'BASTAR', 'BEMETARA', 'BIJAPUR', 'BILASPUR', 'DANTEWADA',\n",
       "       'DHAMTARI', 'DURG', 'GARIYABAND', 'JANJGIR-CHAMPA', 'JASHPUR',\n",
       "       'KABIRDHAM', 'KANKER', 'KONDAGAON', 'KORBA', 'KOREA', 'MAHASAMUND',\n",
       "       'MUNGELI', 'NARAYANPUR', 'RAIGARH', 'RAIPUR', 'RAJNANDGAON',\n",
       "       'SUKMA', 'SURAJPUR', 'SURGUJA', 'DADRA AND NAGAR HAVELI',\n",
       "       'NORTH GOA', 'SOUTH GOA', 'AHMADABAD', 'AMRELI', 'ANAND',\n",
       "       'BANAS KANTHA', 'BHARUCH', 'BHAVNAGAR', 'DANG', 'DOHAD',\n",
       "       'GANDHINAGAR', 'JAMNAGAR', 'JUNAGADH', 'KACHCHH', 'KHEDA',\n",
       "       'MAHESANA', 'NARMADA', 'NAVSARI', 'PANCH MAHALS', 'PATAN',\n",
       "       'PORBANDAR', 'RAJKOT', 'SABAR KANTHA', 'SURAT', 'SURENDRANAGAR',\n",
       "       'TAPI', 'VADODARA', 'VALSAD', 'AMBALA', 'BHIWANI', 'FARIDABAD',\n",
       "       'FATEHABAD', 'GURGAON', 'HISAR', 'JHAJJAR', 'JIND', 'KAITHAL',\n",
       "       'KARNAL', 'KURUKSHETRA', 'MAHENDRAGARH', 'MEWAT', 'PALWAL',\n",
       "       'PANCHKULA', 'PANIPAT', 'REWARI', 'ROHTAK', 'SIRSA', 'SONIPAT',\n",
       "       'YAMUNANAGAR', 'CHAMBA', 'HAMIRPUR', 'KANGRA', 'KINNAUR', 'KULLU',\n",
       "       'LAHUL AND SPITI', 'MANDI', 'SHIMLA', 'SIRMAUR', 'SOLAN', 'UNA',\n",
       "       'ANANTNAG', 'BADGAM', 'BANDIPORA', 'BARAMULLA', 'DODA',\n",
       "       'GANDERBAL', 'JAMMU', 'KARGIL', 'KATHUA', 'KISHTWAR', 'KULGAM',\n",
       "       'KUPWARA', 'LEH LADAKH', 'POONCH', 'PULWAMA', 'RAJAURI', 'RAMBAN',\n",
       "       'REASI', 'SAMBA', 'SHOPIAN', 'SRINAGAR', 'UDHAMPUR', 'BOKARO',\n",
       "       'CHATRA', 'DEOGHAR', 'DHANBAD', 'DUMKA', 'EAST SINGHBUM', 'GARHWA',\n",
       "       'GIRIDIH', 'GODDA', 'GUMLA', 'HAZARIBAGH', 'JAMTARA', 'KHUNTI',\n",
       "       'KODERMA', 'LATEHAR', 'LOHARDAGA', 'PAKUR', 'PALAMU', 'RAMGARH',\n",
       "       'RANCHI', 'SAHEBGANJ', 'SARAIKELA KHARSAWAN', 'SIMDEGA',\n",
       "       'WEST SINGHBHUM', 'BAGALKOT', 'BANGALORE RURAL', 'BELGAUM',\n",
       "       'BELLARY', 'BENGALURU URBAN', 'BIDAR', 'CHAMARAJANAGAR',\n",
       "       'CHIKBALLAPUR', 'CHIKMAGALUR', 'CHITRADURGA', 'DAKSHIN KANNAD',\n",
       "       'DAVANGERE', 'DHARWAD', 'GADAG', 'GULBARGA', 'HASSAN', 'HAVERI',\n",
       "       'KODAGU', 'KOLAR', 'KOPPAL', 'MANDYA', 'MYSORE', 'RAICHUR',\n",
       "       'RAMANAGARA', 'SHIMOGA', 'TUMKUR', 'UDUPI', 'UTTAR KANNAD',\n",
       "       'YADGIR', 'ALAPPUZHA', 'ERNAKULAM', 'IDUKKI', 'KANNUR',\n",
       "       'KASARAGOD', 'KOLLAM', 'KOTTAYAM', 'KOZHIKODE', 'MALAPPURAM',\n",
       "       'PALAKKAD', 'PATHANAMTHITTA', 'THIRUVANANTHAPURAM', 'THRISSUR',\n",
       "       'WAYANAD', 'AGAR MALWA', 'ALIRAJPUR', 'ANUPPUR', 'ASHOKNAGAR',\n",
       "       'BALAGHAT', 'BARWANI', 'BETUL', 'BHIND', 'BHOPAL', 'BURHANPUR',\n",
       "       'CHHATARPUR', 'CHHINDWARA', 'DAMOH', 'DATIA', 'DEWAS', 'DHAR',\n",
       "       'DINDORI', 'GUNA', 'GWALIOR', 'HARDA', 'HOSHANGABAD', 'INDORE',\n",
       "       'JABALPUR', 'JHABUA', 'KATNI', 'KHANDWA', 'KHARGONE', 'MANDLA',\n",
       "       'MANDSAUR', 'MORENA', 'NARSINGHPUR', 'NEEMUCH', 'PANNA', 'RAISEN',\n",
       "       'RAJGARH', 'RATLAM', 'REWA', 'SAGAR', 'SATNA', 'SEHORE', 'SEONI',\n",
       "       'SHAHDOL', 'SHAJAPUR', 'SHEOPUR', 'SHIVPURI', 'SIDHI', 'SINGRAULI',\n",
       "       'TIKAMGARH', 'UJJAIN', 'UMARIA', 'VIDISHA', 'AHMEDNAGAR', 'AKOLA',\n",
       "       'AMRAVATI', 'BEED', 'BHANDARA', 'BULDHANA', 'CHANDRAPUR', 'DHULE',\n",
       "       'GADCHIROLI', 'GONDIA', 'HINGOLI', 'JALGAON', 'JALNA', 'KOLHAPUR',\n",
       "       'LATUR', 'MUMBAI', 'NAGPUR', 'NANDED', 'NANDURBAR', 'NASHIK',\n",
       "       'OSMANABAD', 'PALGHAR', 'PARBHANI', 'PUNE', 'RAIGAD', 'RATNAGIRI',\n",
       "       'SANGLI', 'SATARA', 'SINDHUDURG', 'SOLAPUR', 'THANE', 'WARDHA',\n",
       "       'WASHIM', 'YAVATMAL', 'BISHNUPUR', 'CHANDEL', 'CHURACHANDPUR',\n",
       "       'IMPHAL EAST', 'IMPHAL WEST', 'SENAPATI', 'TAMENGLONG', 'THOUBAL',\n",
       "       'UKHRUL', 'EAST GARO HILLS', 'EAST JAINTIA HILLS',\n",
       "       'EAST KHASI HILLS', 'NORTH GARO HILLS', 'RI BHOI',\n",
       "       'SOUTH GARO HILLS', 'SOUTH WEST GARO HILLS',\n",
       "       'SOUTH WEST KHASI HILLS', 'WEST GARO HILLS', 'WEST JAINTIA HILLS',\n",
       "       'WEST KHASI HILLS', 'AIZAWL', 'CHAMPHAI', 'KOLASIB', 'LAWNGTLAI',\n",
       "       'LUNGLEI', 'MAMIT', 'SAIHA', 'SERCHHIP', 'DIMAPUR', 'KIPHIRE',\n",
       "       'KOHIMA', 'LONGLENG', 'MOKOKCHUNG', 'MON', 'PEREN', 'PHEK',\n",
       "       'TUENSANG', 'WOKHA', 'ZUNHEBOTO', 'ANUGUL', 'BALANGIR',\n",
       "       'BALESHWAR', 'BARGARH', 'BHADRAK', 'BOUDH', 'CUTTACK', 'DEOGARH',\n",
       "       'DHENKANAL', 'GAJAPATI', 'GANJAM', 'JAGATSINGHAPUR', 'JAJAPUR',\n",
       "       'JHARSUGUDA', 'KALAHANDI', 'KANDHAMAL', 'KENDRAPARA', 'KENDUJHAR',\n",
       "       'KHORDHA', 'KORAPUT', 'MALKANGIRI', 'MAYURBHANJ', 'NABARANGPUR',\n",
       "       'NAYAGARH', 'NUAPADA', 'PURI', 'RAYAGADA', 'SAMBALPUR', 'SONEPUR',\n",
       "       'SUNDARGARH', 'KARAIKAL', 'MAHE', 'PONDICHERRY', 'YANAM',\n",
       "       'AMRITSAR', 'BARNALA', 'BATHINDA', 'FARIDKOT', 'FATEHGARH SAHIB',\n",
       "       'FAZILKA', 'FIROZEPUR', 'GURDASPUR', 'HOSHIARPUR', 'JALANDHAR',\n",
       "       'KAPURTHALA', 'LUDHIANA', 'MANSA', 'MOGA', 'MUKTSAR', 'NAWANSHAHR',\n",
       "       'PATHANKOT', 'PATIALA', 'RUPNAGAR', 'S.A.S NAGAR', 'SANGRUR',\n",
       "       'TARN TARAN', 'AJMER', 'ALWAR', 'BANSWARA', 'BARAN', 'BARMER',\n",
       "       'BHARATPUR', 'BHILWARA', 'BIKANER', 'BUNDI', 'CHITTORGARH',\n",
       "       'CHURU', 'DAUSA', 'DHOLPUR', 'DUNGARPUR', 'GANGANAGAR',\n",
       "       'HANUMANGARH', 'JAIPUR', 'JAISALMER', 'JALORE', 'JHALAWAR',\n",
       "       'JHUNJHUNU', 'JODHPUR', 'KARAULI', 'KOTA', 'NAGAUR', 'PALI',\n",
       "       'PRATAPGARH', 'RAJSAMAND', 'SAWAI MADHOPUR', 'SIKAR', 'SIROHI',\n",
       "       'TONK', 'UDAIPUR', 'EAST DISTRICT', 'NORTH DISTRICT',\n",
       "       'SOUTH DISTRICT', 'WEST DISTRICT', 'ARIYALUR', 'COIMBATORE',\n",
       "       'CUDDALORE', 'DHARMAPURI', 'DINDIGUL', 'ERODE', 'KANCHIPURAM',\n",
       "       'KANNIYAKUMARI', 'KARUR', 'KRISHNAGIRI', 'MADURAI', 'NAGAPATTINAM',\n",
       "       'NAMAKKAL', 'PERAMBALUR', 'PUDUKKOTTAI', 'RAMANATHAPURAM', 'SALEM',\n",
       "       'SIVAGANGA', 'THANJAVUR', 'THE NILGIRIS', 'THENI', 'THIRUVALLUR',\n",
       "       'THIRUVARUR', 'TIRUCHIRAPPALLI', 'TIRUNELVELI', 'TIRUPPUR',\n",
       "       'TIRUVANNAMALAI', 'TUTICORIN', 'VELLORE', 'VILLUPURAM',\n",
       "       'VIRUDHUNAGAR', 'ADILABAD', 'HYDERABAD', 'KARIMNAGAR', 'KHAMMAM',\n",
       "       'MAHBUBNAGAR', 'MEDAK', 'NALGONDA', 'NIZAMABAD', 'RANGAREDDI',\n",
       "       'WARANGAL', 'DHALAI', 'GOMATI', 'KHOWAI', 'NORTH TRIPURA',\n",
       "       'SEPAHIJALA', 'SOUTH TRIPURA', 'UNAKOTI', 'WEST TRIPURA', 'AGRA',\n",
       "       'ALIGARH', 'ALLAHABAD', 'AMBEDKAR NAGAR', 'AMETHI', 'AMROHA',\n",
       "       'AURAIYA', 'AZAMGARH', 'BAGHPAT', 'BAHRAICH', 'BALLIA', 'BANDA',\n",
       "       'BARABANKI', 'BAREILLY', 'BASTI', 'BIJNOR', 'BUDAUN',\n",
       "       'BULANDSHAHR', 'CHANDAULI', 'CHITRAKOOT', 'DEORIA', 'ETAH',\n",
       "       'ETAWAH', 'FAIZABAD', 'FARRUKHABAD', 'FATEHPUR', 'FIROZABAD',\n",
       "       'GAUTAM BUDDHA NAGAR', 'GHAZIABAD', 'GHAZIPUR', 'GONDA',\n",
       "       'GORAKHPUR', 'HAPUR', 'HARDOI', 'HATHRAS', 'JALAUN', 'JAUNPUR',\n",
       "       'JHANSI', 'KANNAUJ', 'KANPUR DEHAT', 'KANPUR NAGAR', 'KASGANJ',\n",
       "       'KAUSHAMBI', 'KHERI', 'KUSHI NAGAR', 'LALITPUR', 'LUCKNOW',\n",
       "       'MAHARAJGANJ', 'MAHOBA', 'MAINPURI', 'MATHURA', 'MAU', 'MEERUT',\n",
       "       'MIRZAPUR', 'MORADABAD', 'MUZAFFARNAGAR', 'PILIBHIT', 'RAE BARELI',\n",
       "       'RAMPUR', 'SAHARANPUR', 'SAMBHAL', 'SANT KABEER NAGAR',\n",
       "       'SANT RAVIDAS NAGAR', 'SHAHJAHANPUR', 'SHAMLI', 'SHRAVASTI',\n",
       "       'SIDDHARTH NAGAR', 'SITAPUR', 'SONBHADRA', 'SULTANPUR', 'UNNAO',\n",
       "       'VARANASI', 'ALMORA', 'BAGESHWAR', 'CHAMOLI', 'CHAMPAWAT',\n",
       "       'DEHRADUN', 'HARIDWAR', 'NAINITAL', 'PAURI GARHWAL', 'PITHORAGARH',\n",
       "       'RUDRA PRAYAG', 'TEHRI GARHWAL', 'UDAM SINGH NAGAR', 'UTTAR KASHI',\n",
       "       '24 PARAGANAS NORTH', '24 PARAGANAS SOUTH', 'BANKURA', 'BARDHAMAN',\n",
       "       'BIRBHUM', 'COOCHBEHAR', 'DARJEELING', 'DINAJPUR DAKSHIN',\n",
       "       'DINAJPUR UTTAR', 'HOOGHLY', 'HOWRAH', 'JALPAIGURI', 'MALDAH',\n",
       "       'MEDINIPUR EAST', 'MEDINIPUR WEST', 'MURSHIDABAD', 'NADIA',\n",
       "       'PURULIA'], dtype=object)"
      ]
     },
     "execution_count": 15,
     "metadata": {},
     "output_type": "execute_result"
    }
   ],
   "source": [
    "df.District_Name.unique()"
   ]
  },
  {
   "cell_type": "markdown",
   "id": "66a895f2",
   "metadata": {},
   "source": [
    "### Checking Unique Values In Crop_Year"
   ]
  },
  {
   "cell_type": "code",
   "execution_count": 16,
   "id": "af0d0da6",
   "metadata": {},
   "outputs": [
    {
     "data": {
      "text/plain": [
       "array([2000, 2001, 2002, 2003, 2004, 2005, 2006, 2010, 1997, 1998, 1999,\n",
       "       2007, 2008, 2009, 2011, 2012, 2013, 2014, 2015], dtype=int64)"
      ]
     },
     "execution_count": 16,
     "metadata": {},
     "output_type": "execute_result"
    }
   ],
   "source": [
    "df.Crop_Year.unique()"
   ]
  },
  {
   "cell_type": "markdown",
   "id": "2c0d3282",
   "metadata": {},
   "source": [
    "### Checking Unique Values In Season"
   ]
  },
  {
   "cell_type": "code",
   "execution_count": 17,
   "id": "48d43f4c",
   "metadata": {},
   "outputs": [
    {
     "data": {
      "text/plain": [
       "array(['Kharif     ', 'Whole Year ', 'Autumn     ', 'Rabi       ',\n",
       "       'Summer     ', 'Winter     '], dtype=object)"
      ]
     },
     "execution_count": 17,
     "metadata": {},
     "output_type": "execute_result"
    }
   ],
   "source": [
    "df.Season.unique()"
   ]
  },
  {
   "cell_type": "code",
   "execution_count": 18,
   "id": "6334cd3e",
   "metadata": {},
   "outputs": [],
   "source": [
    "# here we remove unwanted white spaces from season column \n",
    "\n",
    "df['Season']=df['Season'].apply(lambda x : x.strip())\n",
    "df['Crop']=df['Crop'].apply(lambda x : x.strip())"
   ]
  },
  {
   "cell_type": "code",
   "execution_count": 19,
   "id": "66a0b882",
   "metadata": {},
   "outputs": [
    {
     "data": {
      "text/html": [
       "<div>\n",
       "<style scoped>\n",
       "    .dataframe tbody tr th:only-of-type {\n",
       "        vertical-align: middle;\n",
       "    }\n",
       "\n",
       "    .dataframe tbody tr th {\n",
       "        vertical-align: top;\n",
       "    }\n",
       "\n",
       "    .dataframe thead th {\n",
       "        text-align: right;\n",
       "    }\n",
       "</style>\n",
       "<table border=\"1\" class=\"dataframe\">\n",
       "  <thead>\n",
       "    <tr style=\"text-align: right;\">\n",
       "      <th></th>\n",
       "      <th>State_Name</th>\n",
       "      <th>District_Name</th>\n",
       "      <th>Crop_Year</th>\n",
       "      <th>Season</th>\n",
       "      <th>Crop</th>\n",
       "      <th>Area</th>\n",
       "      <th>Production</th>\n",
       "    </tr>\n",
       "  </thead>\n",
       "  <tbody>\n",
       "    <tr>\n",
       "      <th>0</th>\n",
       "      <td>Andaman and Nicobar Islands</td>\n",
       "      <td>NICOBARS</td>\n",
       "      <td>2000</td>\n",
       "      <td>Kharif</td>\n",
       "      <td>Arecanut</td>\n",
       "      <td>1254.0</td>\n",
       "      <td>2000.0</td>\n",
       "    </tr>\n",
       "    <tr>\n",
       "      <th>1</th>\n",
       "      <td>Andaman and Nicobar Islands</td>\n",
       "      <td>NICOBARS</td>\n",
       "      <td>2000</td>\n",
       "      <td>Kharif</td>\n",
       "      <td>Other Kharif pulses</td>\n",
       "      <td>2.0</td>\n",
       "      <td>1.0</td>\n",
       "    </tr>\n",
       "    <tr>\n",
       "      <th>2</th>\n",
       "      <td>Andaman and Nicobar Islands</td>\n",
       "      <td>NICOBARS</td>\n",
       "      <td>2000</td>\n",
       "      <td>Kharif</td>\n",
       "      <td>Rice</td>\n",
       "      <td>102.0</td>\n",
       "      <td>321.0</td>\n",
       "    </tr>\n",
       "    <tr>\n",
       "      <th>3</th>\n",
       "      <td>Andaman and Nicobar Islands</td>\n",
       "      <td>NICOBARS</td>\n",
       "      <td>2000</td>\n",
       "      <td>Whole Year</td>\n",
       "      <td>Banana</td>\n",
       "      <td>176.0</td>\n",
       "      <td>641.0</td>\n",
       "    </tr>\n",
       "    <tr>\n",
       "      <th>4</th>\n",
       "      <td>Andaman and Nicobar Islands</td>\n",
       "      <td>NICOBARS</td>\n",
       "      <td>2000</td>\n",
       "      <td>Whole Year</td>\n",
       "      <td>Cashewnut</td>\n",
       "      <td>720.0</td>\n",
       "      <td>165.0</td>\n",
       "    </tr>\n",
       "  </tbody>\n",
       "</table>\n",
       "</div>"
      ],
      "text/plain": [
       "                    State_Name District_Name  Crop_Year      Season  \\\n",
       "0  Andaman and Nicobar Islands      NICOBARS       2000      Kharif   \n",
       "1  Andaman and Nicobar Islands      NICOBARS       2000      Kharif   \n",
       "2  Andaman and Nicobar Islands      NICOBARS       2000      Kharif   \n",
       "3  Andaman and Nicobar Islands      NICOBARS       2000  Whole Year   \n",
       "4  Andaman and Nicobar Islands      NICOBARS       2000  Whole Year   \n",
       "\n",
       "                  Crop    Area  Production  \n",
       "0             Arecanut  1254.0      2000.0  \n",
       "1  Other Kharif pulses     2.0         1.0  \n",
       "2                 Rice   102.0       321.0  \n",
       "3               Banana   176.0       641.0  \n",
       "4            Cashewnut   720.0       165.0  "
      ]
     },
     "execution_count": 19,
     "metadata": {},
     "output_type": "execute_result"
    }
   ],
   "source": [
    "df.head()"
   ]
  },
  {
   "cell_type": "code",
   "execution_count": 20,
   "id": "b23fcded",
   "metadata": {},
   "outputs": [
    {
     "data": {
      "text/plain": [
       "array(['Kharif', 'Whole Year', 'Autumn', 'Rabi', 'Summer', 'Winter'],\n",
       "      dtype=object)"
      ]
     },
     "execution_count": 20,
     "metadata": {},
     "output_type": "execute_result"
    }
   ],
   "source": [
    "# after removing white spaces\n",
    "\n",
    "df.Season.unique()"
   ]
  },
  {
   "cell_type": "code",
   "execution_count": 21,
   "id": "0fb9a367",
   "metadata": {},
   "outputs": [
    {
     "data": {
      "text/plain": [
       "Kharif        94283\n",
       "Rabi          66160\n",
       "Whole Year    56127\n",
       "Summer        14811\n",
       "Winter         6050\n",
       "Autumn         4930\n",
       "Name: Season, dtype: int64"
      ]
     },
     "execution_count": 21,
     "metadata": {},
     "output_type": "execute_result"
    }
   ],
   "source": [
    "# checking the values counts of each season\n",
    "\n",
    "df['Season'].value_counts()"
   ]
  },
  {
   "cell_type": "code",
   "execution_count": 22,
   "id": "d90b3eba",
   "metadata": {},
   "outputs": [],
   "source": [
    "'''since there are Three types of crop out of which two are mainly seasonal Rabi and Kharif and one is for whole year but\n",
    " 5 crops season were present in our datset.we got to know that summer and Autumn synonyms of Kharif and winter is synonyms of\n",
    " of Rabi so we decided to replace with their original name which is Kharif Rabi'''\n",
    "\n",
    "df['Season']=df['Season'].apply(lambda x : x.replace('Autumn','Kharif'))\n",
    "df['Season']=df['Season'].apply(lambda x : x.replace('Summer','Kharif'))\n",
    "df['Season']=df['Season'].apply(lambda x : x.replace('Winter','Rabi'))"
   ]
  },
  {
   "cell_type": "code",
   "execution_count": 23,
   "id": "6a98c5ad",
   "metadata": {},
   "outputs": [
    {
     "data": {
      "text/plain": [
       "Kharif        114024\n",
       "Rabi           72210\n",
       "Whole Year     56127\n",
       "Name: Season, dtype: int64"
      ]
     },
     "execution_count": 23,
     "metadata": {},
     "output_type": "execute_result"
    }
   ],
   "source": [
    "#Checking values counts of season after replacing\n",
    "\n",
    "df['Season'].value_counts()"
   ]
  },
  {
   "cell_type": "markdown",
   "id": "30b241d8",
   "metadata": {},
   "source": [
    "### Checking Unique Values In Crop"
   ]
  },
  {
   "cell_type": "code",
   "execution_count": 24,
   "id": "7d3ef608",
   "metadata": {},
   "outputs": [
    {
     "data": {
      "text/html": [
       "<div>\n",
       "<style scoped>\n",
       "    .dataframe tbody tr th:only-of-type {\n",
       "        vertical-align: middle;\n",
       "    }\n",
       "\n",
       "    .dataframe tbody tr th {\n",
       "        vertical-align: top;\n",
       "    }\n",
       "\n",
       "    .dataframe thead th {\n",
       "        text-align: right;\n",
       "    }\n",
       "</style>\n",
       "<table border=\"1\" class=\"dataframe\">\n",
       "  <thead>\n",
       "    <tr style=\"text-align: right;\">\n",
       "      <th></th>\n",
       "      <th>State_Name</th>\n",
       "      <th>District_Name</th>\n",
       "      <th>Crop_Year</th>\n",
       "      <th>Season</th>\n",
       "      <th>Crop</th>\n",
       "      <th>Area</th>\n",
       "      <th>Production</th>\n",
       "    </tr>\n",
       "  </thead>\n",
       "  <tbody>\n",
       "    <tr>\n",
       "      <th>0</th>\n",
       "      <td>Andaman and Nicobar Islands</td>\n",
       "      <td>NICOBARS</td>\n",
       "      <td>2000</td>\n",
       "      <td>Kharif</td>\n",
       "      <td>Arecanut</td>\n",
       "      <td>1254.0</td>\n",
       "      <td>2000.0</td>\n",
       "    </tr>\n",
       "    <tr>\n",
       "      <th>1</th>\n",
       "      <td>Andaman and Nicobar Islands</td>\n",
       "      <td>NICOBARS</td>\n",
       "      <td>2000</td>\n",
       "      <td>Kharif</td>\n",
       "      <td>Other Kharif pulses</td>\n",
       "      <td>2.0</td>\n",
       "      <td>1.0</td>\n",
       "    </tr>\n",
       "    <tr>\n",
       "      <th>2</th>\n",
       "      <td>Andaman and Nicobar Islands</td>\n",
       "      <td>NICOBARS</td>\n",
       "      <td>2000</td>\n",
       "      <td>Kharif</td>\n",
       "      <td>Rice</td>\n",
       "      <td>102.0</td>\n",
       "      <td>321.0</td>\n",
       "    </tr>\n",
       "    <tr>\n",
       "      <th>3</th>\n",
       "      <td>Andaman and Nicobar Islands</td>\n",
       "      <td>NICOBARS</td>\n",
       "      <td>2000</td>\n",
       "      <td>Whole Year</td>\n",
       "      <td>Banana</td>\n",
       "      <td>176.0</td>\n",
       "      <td>641.0</td>\n",
       "    </tr>\n",
       "    <tr>\n",
       "      <th>4</th>\n",
       "      <td>Andaman and Nicobar Islands</td>\n",
       "      <td>NICOBARS</td>\n",
       "      <td>2000</td>\n",
       "      <td>Whole Year</td>\n",
       "      <td>Cashewnut</td>\n",
       "      <td>720.0</td>\n",
       "      <td>165.0</td>\n",
       "    </tr>\n",
       "  </tbody>\n",
       "</table>\n",
       "</div>"
      ],
      "text/plain": [
       "                    State_Name District_Name  Crop_Year      Season  \\\n",
       "0  Andaman and Nicobar Islands      NICOBARS       2000      Kharif   \n",
       "1  Andaman and Nicobar Islands      NICOBARS       2000      Kharif   \n",
       "2  Andaman and Nicobar Islands      NICOBARS       2000      Kharif   \n",
       "3  Andaman and Nicobar Islands      NICOBARS       2000  Whole Year   \n",
       "4  Andaman and Nicobar Islands      NICOBARS       2000  Whole Year   \n",
       "\n",
       "                  Crop    Area  Production  \n",
       "0             Arecanut  1254.0      2000.0  \n",
       "1  Other Kharif pulses     2.0         1.0  \n",
       "2                 Rice   102.0       321.0  \n",
       "3               Banana   176.0       641.0  \n",
       "4            Cashewnut   720.0       165.0  "
      ]
     },
     "execution_count": 24,
     "metadata": {},
     "output_type": "execute_result"
    }
   ],
   "source": [
    "df.head()"
   ]
  },
  {
   "cell_type": "code",
   "execution_count": 25,
   "id": "4dd08430",
   "metadata": {},
   "outputs": [
    {
     "data": {
      "text/plain": [
       "array(['Arecanut', 'Other Kharif pulses', 'Rice', 'Banana', 'Cashewnut',\n",
       "       'Coconut', 'Dry ginger', 'Sugarcane', 'Sweet potato', 'Tapioca',\n",
       "       'Black pepper', 'Dry chillies', 'other oilseeds', 'Turmeric',\n",
       "       'Maize', 'Moong(Green Gram)', 'Urad', 'Arhar/Tur', 'Groundnut',\n",
       "       'Sunflower', 'Bajra', 'Castor seed', 'Cotton(lint)', 'Horse-gram',\n",
       "       'Jowar', 'Korra', 'Ragi', 'Tobacco', 'Gram', 'Wheat', 'Masoor',\n",
       "       'Sesamum', 'Linseed', 'Safflower', 'Onion', 'other misc. pulses',\n",
       "       'Samai', 'Small millets', 'Coriander', 'Potato',\n",
       "       'Other  Rabi pulses', 'Soyabean', 'Beans & Mutter(Vegetable)',\n",
       "       'Bhindi', 'Brinjal', 'Citrus Fruit', 'Cucumber', 'Grapes', 'Mango',\n",
       "       'Orange', 'other fibres', 'Other Fresh Fruits', 'Other Vegetables',\n",
       "       'Papaya', 'Pome Fruit', 'Tomato', 'Mesta', 'Cowpea(Lobia)',\n",
       "       'Lemon', 'Pome Granet', 'Sapota', 'Cabbage', 'Rapeseed &Mustard',\n",
       "       'Peas  (vegetable)', 'Niger seed', 'Bottle Gourd', 'Varagu',\n",
       "       'Garlic', 'Ginger', 'Oilseeds total', 'Pulses total', 'Jute',\n",
       "       'Peas & beans (Pulses)', 'Blackgram', 'Paddy', 'Pineapple',\n",
       "       'Barley', 'Sannhamp', 'Khesari', 'Guar seed', 'Moth',\n",
       "       'Other Cereals & Millets', 'Cond-spcs other', 'Turnip', 'Carrot',\n",
       "       'Redish', 'Arcanut (Processed)', 'Atcanut (Raw)',\n",
       "       'Cashewnut Processed', 'Cashewnut Raw', 'Cardamom', 'Rubber',\n",
       "       'Bitter Gourd', 'Drum Stick', 'Jack Fruit', 'Snak Guard', 'Tea',\n",
       "       'Coffee', 'Cauliflower', 'Other Citrus Fruit', 'Water Melon',\n",
       "       'Total foodgrain', 'Kapas', 'Colocosia', 'Lentil', 'Bean',\n",
       "       'Jobster', 'Perilla', 'Rajmash Kholar', 'Ricebean (nagadal)',\n",
       "       'Ash Gourd', 'Beet Root', 'Lab-Lab', 'Ribed Guard', 'Yam',\n",
       "       'Pump Kin', 'Apple', 'Peach', 'Pear', 'Plums', 'Litchi', 'Ber',\n",
       "       'Other Dry Fruit', 'Jute & mesta'], dtype=object)"
      ]
     },
     "execution_count": 25,
     "metadata": {},
     "output_type": "execute_result"
    }
   ],
   "source": [
    "df.Crop.unique()"
   ]
  },
  {
   "cell_type": "markdown",
   "id": "f1a1e327",
   "metadata": {},
   "source": [
    "###### we observed that many crops were presenyed with their synonyms so we decided all synonyms of crops to replace with their popular name like paddy and rice are same so we replace paddy with Rice also number of rows of crops sub-category were very less"
   ]
  },
  {
   "cell_type": "code",
   "execution_count": 26,
   "id": "54dda0a5",
   "metadata": {},
   "outputs": [],
   "source": [
    "# we have replaced  kapas to cotton etc.\n",
    "\n",
    "df['Crop']=df['Crop'].apply(lambda x:x.replace('Kapas','Cotton(lint)')\n",
    "                                      .replace('Cotton(lint)','Cotton'))\n",
    "\n",
    "df.replace('Jute & mesta','Jute',inplace=True)\n",
    "df.replace('Mesta','Jute',inplace=True)"
   ]
  },
  {
   "cell_type": "code",
   "execution_count": 27,
   "id": "c59c930f",
   "metadata": {},
   "outputs": [],
   "source": [
    "# we have replace sub-category of pulses with pulse\n",
    "\n",
    "df['Crop']=df['Crop'].apply(lambda x:x.replace('Other Kharif pulses','pulses')\n",
    "                                    .replace('Other  Rabi pulses','pulses')\n",
    "                                    .replace('Peas & beans (Pulses)','pulses')\n",
    "                                    .replace('Pulses total','pulses')\n",
    "                                    .replace('other misc. pulses','pulses')\n",
    "                                    .replace('Moong(Green Gram)','pulses')\n",
    "                                    .replace('Urad','pulses')\n",
    "                                    .replace('Arhar/Tur','pulses')\n",
    "                                    .replace('Bean','pulses')\n",
    "                                    .replace('Ricebean (nagadal)','pulses')\n",
    "                                    .replace('Lentil','pulses')\n",
    "                                    .replace('Masoor','pulses')\n",
    "                                    .replace('Khesari','pulses')\n",
    "                                    .replace('Horse-gram','pulses')\n",
    "                                    .replace('Rajmash Kholar','pulses'))"
   ]
  },
  {
   "cell_type": "code",
   "execution_count": 28,
   "id": "613ba1e0",
   "metadata": {},
   "outputs": [],
   "source": [
    "#we have corrected spelling mistake\n",
    "\n",
    "df['Crop']=df['Crop'].apply(lambda x:x\n",
    "                                    .replace('Atcanut (Raw)','Arecanut')\n",
    "                                    .replace('Arcanut (Processed)','Arecanut')\n",
    "                                    .replace('Arecanut','Arecanut'))"
   ]
  },
  {
   "cell_type": "code",
   "execution_count": 29,
   "id": "63fea5b1",
   "metadata": {},
   "outputs": [],
   "source": [
    "# we have replaced varienty of spices with othe spices\n",
    "\n",
    "df['Crop']=df['Crop'].apply(lambda x:x\n",
    "                                    .replace('Black pepper','Other Spices')\n",
    "                                    .replace('Cardamom','Other Spices')\n",
    "                                    .replace('Perilla','Other Spices'))"
   ]
  },
  {
   "cell_type": "code",
   "execution_count": 30,
   "id": "47b1e8fa",
   "metadata": {},
   "outputs": [],
   "source": [
    "#since number of rows for every fruits category were very less so we decided to megre all to fruits\n",
    "\n",
    "df['Crop']=df['Crop'].apply(lambda x:x\n",
    "                                    .replace('Papaya','Fruits')\n",
    "                                    .replace('Mango','Fruits')\n",
    "                                     .replace('Orange','Fruits')\n",
    "                                     .replace('Other Fresh Fruits','Fruits')\n",
    "                                     .replace('Pineapple','Fruits')\n",
    "                                     .replace('Citrus Fruit','Fruits')\n",
    "                                     .replace('Pome Fruit','Fruits')\n",
    "                                     .replace('Pome Granet','Fruits')\n",
    "                                     .replace('Grapes','Fruits')\n",
    "                                     .replace('Jack Fruit','Fruits')\n",
    "                                     .replace('Sapota','Fruits')\n",
    "                                     .replace('Lemon','Fruits'))\n"
   ]
  },
  {
   "cell_type": "code",
   "execution_count": 31,
   "id": "e48621c3",
   "metadata": {},
   "outputs": [],
   "source": [
    "# we have replace sub-category with their main-category \n",
    "\n",
    "df['Crop']=df['Crop'].apply(lambda x:x\n",
    "                                    .replace('Ginger','Dry ginger'))\n",
    "\n",
    "df['Crop']=df['Crop'].apply(lambda x:x\n",
    "                                    .replace('Turnip','Onion'))\n",
    "\n",
    "df['Crop']=df['Crop'].apply(lambda x:x\n",
    "                                      .replace('Cashewnut Raw','Cashewnut')\n",
    "                                      .replace('Cashewnut Processed','Cashewnut'))"
   ]
  },
  {
   "cell_type": "code",
   "execution_count": 32,
   "id": "defc22de",
   "metadata": {},
   "outputs": [],
   "source": [
    "# we have replace sub-category of gram with their main-category \n",
    "\n",
    "df['Crop']=df['Crop'].apply(lambda x:x\n",
    "                                      .replace('black gram','gram')\n",
    "                                     .replace('Moth','gram')\n",
    "                                     .replace('Blackgram','gram'))"
   ]
  },
  {
   "cell_type": "code",
   "execution_count": 33,
   "id": "9fb5535a",
   "metadata": {},
   "outputs": [],
   "source": [
    "# we have replace other Oilseeds total to  other oilseeds\n",
    "\n",
    "df['Crop']=df['Crop'].apply(lambda x:x\n",
    "                                      .replace('Oilseeds total' ,'other oilseeds')\n",
    "                                      .replace('Niger seed' ,'other oilseeds'))"
   ]
  },
  {
   "cell_type": "code",
   "execution_count": 34,
   "id": "97f2f7fb",
   "metadata": {},
   "outputs": [],
   "source": [
    "# we have replace sub-category of milltes with their main-category \n",
    "\n",
    "df['Crop']=df['Crop'].apply(lambda x:x\n",
    "                                      .replace('Other Cereals & Millets' ,'Bajra')\n",
    "                                      .replace('Samai' ,'Bajra')\n",
    "                                      .replace('Small millets' ,'Bajra')\n",
    "                                      .replace('Ragi','Bajra')\n",
    "                                      .replace('Varagu','Bajra')\n",
    "                                      .replace('Jobster','Bajra'))"
   ]
  },
  {
   "cell_type": "code",
   "execution_count": 35,
   "id": "5d528593",
   "metadata": {},
   "outputs": [],
   "source": [
    "# we have replace sub-category of Vegetables with their main-category \n",
    "\n",
    "df['Crop']=df['Crop'].apply(lambda x:x\n",
    "                                     .replace('Coriander' ,'Other Vegetables')\n",
    "                                     .replace('pulsess & Mutter(Vegetable)' ,'Other Vegetables')\n",
    "                                     .replace('Bhindi' ,'Other Vegetables')\n",
    "                                     .replace('Tomato','Other Vegetables')\n",
    "                                     .replace('Cowpea(Lobia)','Other Vegetables')\n",
    "                                     .replace('Cabbage','Other Vegetables')\n",
    "                                     .replace('Carrot','Other Vegetables')\n",
    "                                     .replace('Drum Stick','Other Vegetables')\n",
    "                                     .replace('Redish','Other Vegetables')\n",
    "                                     .replace('Cauliflower','Other Vegetables')\n",
    "                                     .replace('Colocosia','Other Vegetables')\n",
    "                                     .replace('Brinjal','Other Vegetables')\n",
    "                                     .replace('Bottle Gourd','Other Vegetables')\n",
    "                                     .replace('Bitter Gourd','Other Vegetables'))"
   ]
  },
  {
   "cell_type": "code",
   "execution_count": 36,
   "id": "d5a24282",
   "metadata": {},
   "outputs": [],
   "source": [
    "#we have replace sub-category with their main-category\n",
    "\n",
    "df['Crop']=df['Crop'].apply(lambda x:x.replace('Niger seed','Sesamum'))\n",
    "df['Crop']=df['Crop'].apply(lambda x:x.replace('Korra','Total foodgrain'))\n",
    "df['Crop']=df['Crop'].apply(lambda x:x.replace('Paddy','Rice'))"
   ]
  },
  {
   "cell_type": "code",
   "execution_count": 37,
   "id": "3823d9a1",
   "metadata": {},
   "outputs": [],
   "source": [
    "#we have observed some cropes rows are very very less so it wont make any sense to visualization so we decided to drop those rows\n",
    "\n",
    "df.drop(df[df['Crop']=='Tea'].index,inplace=True)\n",
    "df.drop(df[df['Crop']=='Coffee'].index,inplace=True)\n",
    "df.drop(df[df['Crop']=='Rubber'].index,inplace=True)\n",
    "df.drop(df[df['Crop']=='Cond-spcs other'].index,inplace=True)"
   ]
  },
  {
   "cell_type": "code",
   "execution_count": 38,
   "id": "09de13d4",
   "metadata": {},
   "outputs": [
    {
     "data": {
      "text/plain": [
       "array(['Arecanut', 'pulses', 'Rice', 'Banana', 'Cashewnut', 'Coconut',\n",
       "       'Dry ginger', 'Sugarcane', 'Sweet potato', 'Tapioca',\n",
       "       'Other Spices', 'Dry chillies', 'other oilseeds', 'Turmeric',\n",
       "       'Maize', 'Groundnut', 'Sunflower', 'Bajra', 'Castor seed',\n",
       "       'Cotton', 'Jowar', 'Total foodgrain', 'Tobacco', 'Gram', 'Wheat',\n",
       "       'Sesamum', 'Linseed', 'Safflower', 'Onion', 'Other Vegetables',\n",
       "       'Potato', 'Soyabean', 'Fruits', 'Cucumber', 'other fibres', 'Jute',\n",
       "       'Rapeseed &Mustard', 'Peas  (vegetable)', 'Garlic', 'gram',\n",
       "       'Barley', 'Sannhamp', 'Guar seed', 'Snak Guard', 'Other Fruits',\n",
       "       'Water Melon', 'Ash Gourd', 'Beet Root', 'Lab-Lab', 'Ribed Guard',\n",
       "       'Yam', 'Pump Kin', 'Apple', 'Peach', 'Pear', 'Plums', 'Litchi',\n",
       "       'Ber', 'Other Dry Fruit'], dtype=object)"
      ]
     },
     "execution_count": 38,
     "metadata": {},
     "output_type": "execute_result"
    }
   ],
   "source": [
    "# checking unique crops types after replacement\n",
    "\n",
    "df.Crop.unique()"
   ]
  },
  {
   "cell_type": "markdown",
   "id": "2a9b3d34",
   "metadata": {},
   "source": [
    "# Production"
   ]
  },
  {
   "cell_type": "code",
   "execution_count": 39,
   "id": "d2a0b718",
   "metadata": {},
   "outputs": [
    {
     "name": "stdout",
     "output_type": "stream",
     "text": [
      "After removing the row which has 0 Production : 238723\n"
     ]
    }
   ],
   "source": [
    "# we have observed that many values of producation were 0 since it is represntating producation of whole district\n",
    "# so we decided drop all rows whose producation values are zero\n",
    "\n",
    "df.drop(df[df['Production']==0].index,inplace=True)\n",
    "\n",
    "print(f'After removing the row which has 0 Production : {df.shape[0]}')"
   ]
  },
  {
   "cell_type": "code",
   "execution_count": 40,
   "id": "0aceaebe",
   "metadata": {},
   "outputs": [
    {
     "data": {
      "text/html": [
       "<div>\n",
       "<style scoped>\n",
       "    .dataframe tbody tr th:only-of-type {\n",
       "        vertical-align: middle;\n",
       "    }\n",
       "\n",
       "    .dataframe tbody tr th {\n",
       "        vertical-align: top;\n",
       "    }\n",
       "\n",
       "    .dataframe thead th {\n",
       "        text-align: right;\n",
       "    }\n",
       "</style>\n",
       "<table border=\"1\" class=\"dataframe\">\n",
       "  <thead>\n",
       "    <tr style=\"text-align: right;\">\n",
       "      <th></th>\n",
       "      <th>State_Name</th>\n",
       "      <th>District_Name</th>\n",
       "      <th>Crop_Year</th>\n",
       "      <th>Season</th>\n",
       "      <th>Crop</th>\n",
       "      <th>Area</th>\n",
       "      <th>Production</th>\n",
       "    </tr>\n",
       "  </thead>\n",
       "  <tbody>\n",
       "    <tr>\n",
       "      <th>0</th>\n",
       "      <td>Andaman and Nicobar Islands</td>\n",
       "      <td>NICOBARS</td>\n",
       "      <td>2000</td>\n",
       "      <td>Kharif</td>\n",
       "      <td>Arecanut</td>\n",
       "      <td>1254.0</td>\n",
       "      <td>2000.0</td>\n",
       "    </tr>\n",
       "    <tr>\n",
       "      <th>1</th>\n",
       "      <td>Andaman and Nicobar Islands</td>\n",
       "      <td>NICOBARS</td>\n",
       "      <td>2000</td>\n",
       "      <td>Kharif</td>\n",
       "      <td>pulses</td>\n",
       "      <td>2.0</td>\n",
       "      <td>1.0</td>\n",
       "    </tr>\n",
       "    <tr>\n",
       "      <th>2</th>\n",
       "      <td>Andaman and Nicobar Islands</td>\n",
       "      <td>NICOBARS</td>\n",
       "      <td>2000</td>\n",
       "      <td>Kharif</td>\n",
       "      <td>Rice</td>\n",
       "      <td>102.0</td>\n",
       "      <td>321.0</td>\n",
       "    </tr>\n",
       "    <tr>\n",
       "      <th>3</th>\n",
       "      <td>Andaman and Nicobar Islands</td>\n",
       "      <td>NICOBARS</td>\n",
       "      <td>2000</td>\n",
       "      <td>Whole Year</td>\n",
       "      <td>Banana</td>\n",
       "      <td>176.0</td>\n",
       "      <td>641.0</td>\n",
       "    </tr>\n",
       "    <tr>\n",
       "      <th>4</th>\n",
       "      <td>Andaman and Nicobar Islands</td>\n",
       "      <td>NICOBARS</td>\n",
       "      <td>2000</td>\n",
       "      <td>Whole Year</td>\n",
       "      <td>Cashewnut</td>\n",
       "      <td>720.0</td>\n",
       "      <td>165.0</td>\n",
       "    </tr>\n",
       "    <tr>\n",
       "      <th>...</th>\n",
       "      <td>...</td>\n",
       "      <td>...</td>\n",
       "      <td>...</td>\n",
       "      <td>...</td>\n",
       "      <td>...</td>\n",
       "      <td>...</td>\n",
       "      <td>...</td>\n",
       "    </tr>\n",
       "    <tr>\n",
       "      <th>246086</th>\n",
       "      <td>West Bengal</td>\n",
       "      <td>PURULIA</td>\n",
       "      <td>2014</td>\n",
       "      <td>Kharif</td>\n",
       "      <td>Rice</td>\n",
       "      <td>306.0</td>\n",
       "      <td>801.0</td>\n",
       "    </tr>\n",
       "    <tr>\n",
       "      <th>246087</th>\n",
       "      <td>West Bengal</td>\n",
       "      <td>PURULIA</td>\n",
       "      <td>2014</td>\n",
       "      <td>Kharif</td>\n",
       "      <td>Sesamum</td>\n",
       "      <td>627.0</td>\n",
       "      <td>463.0</td>\n",
       "    </tr>\n",
       "    <tr>\n",
       "      <th>246088</th>\n",
       "      <td>West Bengal</td>\n",
       "      <td>PURULIA</td>\n",
       "      <td>2014</td>\n",
       "      <td>Whole Year</td>\n",
       "      <td>Sugarcane</td>\n",
       "      <td>324.0</td>\n",
       "      <td>16250.0</td>\n",
       "    </tr>\n",
       "    <tr>\n",
       "      <th>246089</th>\n",
       "      <td>West Bengal</td>\n",
       "      <td>PURULIA</td>\n",
       "      <td>2014</td>\n",
       "      <td>Rabi</td>\n",
       "      <td>Rice</td>\n",
       "      <td>279151.0</td>\n",
       "      <td>597899.0</td>\n",
       "    </tr>\n",
       "    <tr>\n",
       "      <th>246090</th>\n",
       "      <td>West Bengal</td>\n",
       "      <td>PURULIA</td>\n",
       "      <td>2014</td>\n",
       "      <td>Rabi</td>\n",
       "      <td>Sesamum</td>\n",
       "      <td>175.0</td>\n",
       "      <td>88.0</td>\n",
       "    </tr>\n",
       "  </tbody>\n",
       "</table>\n",
       "<p>238723 rows × 7 columns</p>\n",
       "</div>"
      ],
      "text/plain": [
       "                         State_Name District_Name  Crop_Year      Season  \\\n",
       "0       Andaman and Nicobar Islands      NICOBARS       2000      Kharif   \n",
       "1       Andaman and Nicobar Islands      NICOBARS       2000      Kharif   \n",
       "2       Andaman and Nicobar Islands      NICOBARS       2000      Kharif   \n",
       "3       Andaman and Nicobar Islands      NICOBARS       2000  Whole Year   \n",
       "4       Andaman and Nicobar Islands      NICOBARS       2000  Whole Year   \n",
       "...                             ...           ...        ...         ...   \n",
       "246086                  West Bengal       PURULIA       2014      Kharif   \n",
       "246087                  West Bengal       PURULIA       2014      Kharif   \n",
       "246088                  West Bengal       PURULIA       2014  Whole Year   \n",
       "246089                  West Bengal       PURULIA       2014        Rabi   \n",
       "246090                  West Bengal       PURULIA       2014        Rabi   \n",
       "\n",
       "             Crop      Area  Production  \n",
       "0        Arecanut    1254.0      2000.0  \n",
       "1          pulses       2.0         1.0  \n",
       "2            Rice     102.0       321.0  \n",
       "3          Banana     176.0       641.0  \n",
       "4       Cashewnut     720.0       165.0  \n",
       "...           ...       ...         ...  \n",
       "246086       Rice     306.0       801.0  \n",
       "246087    Sesamum     627.0       463.0  \n",
       "246088  Sugarcane     324.0     16250.0  \n",
       "246089       Rice  279151.0    597899.0  \n",
       "246090    Sesamum     175.0        88.0  \n",
       "\n",
       "[238723 rows x 7 columns]"
      ]
     },
     "execution_count": 40,
     "metadata": {},
     "output_type": "execute_result"
    }
   ],
   "source": [
    "df"
   ]
  },
  {
   "cell_type": "code",
   "execution_count": 41,
   "id": "93f86de5",
   "metadata": {},
   "outputs": [],
   "source": [
    "# saving cleaned data file\n",
    "\n",
    "df.to_csv('Crop_clean.csv')"
   ]
  },
  {
   "cell_type": "code",
   "execution_count": 42,
   "id": "61a73742",
   "metadata": {},
   "outputs": [
    {
     "data": {
      "text/html": [
       "<div>\n",
       "<style scoped>\n",
       "    .dataframe tbody tr th:only-of-type {\n",
       "        vertical-align: middle;\n",
       "    }\n",
       "\n",
       "    .dataframe tbody tr th {\n",
       "        vertical-align: top;\n",
       "    }\n",
       "\n",
       "    .dataframe thead th {\n",
       "        text-align: right;\n",
       "    }\n",
       "</style>\n",
       "<table border=\"1\" class=\"dataframe\">\n",
       "  <thead>\n",
       "    <tr style=\"text-align: right;\">\n",
       "      <th></th>\n",
       "      <th>State_Name</th>\n",
       "      <th>District_Name</th>\n",
       "      <th>Crop_Year</th>\n",
       "      <th>Season</th>\n",
       "      <th>Crop</th>\n",
       "      <th>Area</th>\n",
       "      <th>Production</th>\n",
       "    </tr>\n",
       "  </thead>\n",
       "  <tbody>\n",
       "    <tr>\n",
       "      <th>0</th>\n",
       "      <td>Andaman and Nicobar Islands</td>\n",
       "      <td>NICOBARS</td>\n",
       "      <td>2000</td>\n",
       "      <td>Kharif</td>\n",
       "      <td>Arecanut</td>\n",
       "      <td>1254.0</td>\n",
       "      <td>2000.0</td>\n",
       "    </tr>\n",
       "    <tr>\n",
       "      <th>1</th>\n",
       "      <td>Andaman and Nicobar Islands</td>\n",
       "      <td>NICOBARS</td>\n",
       "      <td>2000</td>\n",
       "      <td>Kharif</td>\n",
       "      <td>pulses</td>\n",
       "      <td>2.0</td>\n",
       "      <td>1.0</td>\n",
       "    </tr>\n",
       "    <tr>\n",
       "      <th>2</th>\n",
       "      <td>Andaman and Nicobar Islands</td>\n",
       "      <td>NICOBARS</td>\n",
       "      <td>2000</td>\n",
       "      <td>Kharif</td>\n",
       "      <td>Rice</td>\n",
       "      <td>102.0</td>\n",
       "      <td>321.0</td>\n",
       "    </tr>\n",
       "    <tr>\n",
       "      <th>3</th>\n",
       "      <td>Andaman and Nicobar Islands</td>\n",
       "      <td>NICOBARS</td>\n",
       "      <td>2000</td>\n",
       "      <td>Whole Year</td>\n",
       "      <td>Banana</td>\n",
       "      <td>176.0</td>\n",
       "      <td>641.0</td>\n",
       "    </tr>\n",
       "    <tr>\n",
       "      <th>4</th>\n",
       "      <td>Andaman and Nicobar Islands</td>\n",
       "      <td>NICOBARS</td>\n",
       "      <td>2000</td>\n",
       "      <td>Whole Year</td>\n",
       "      <td>Cashewnut</td>\n",
       "      <td>720.0</td>\n",
       "      <td>165.0</td>\n",
       "    </tr>\n",
       "    <tr>\n",
       "      <th>...</th>\n",
       "      <td>...</td>\n",
       "      <td>...</td>\n",
       "      <td>...</td>\n",
       "      <td>...</td>\n",
       "      <td>...</td>\n",
       "      <td>...</td>\n",
       "      <td>...</td>\n",
       "    </tr>\n",
       "    <tr>\n",
       "      <th>246086</th>\n",
       "      <td>West Bengal</td>\n",
       "      <td>PURULIA</td>\n",
       "      <td>2014</td>\n",
       "      <td>Kharif</td>\n",
       "      <td>Rice</td>\n",
       "      <td>306.0</td>\n",
       "      <td>801.0</td>\n",
       "    </tr>\n",
       "    <tr>\n",
       "      <th>246087</th>\n",
       "      <td>West Bengal</td>\n",
       "      <td>PURULIA</td>\n",
       "      <td>2014</td>\n",
       "      <td>Kharif</td>\n",
       "      <td>Sesamum</td>\n",
       "      <td>627.0</td>\n",
       "      <td>463.0</td>\n",
       "    </tr>\n",
       "    <tr>\n",
       "      <th>246088</th>\n",
       "      <td>West Bengal</td>\n",
       "      <td>PURULIA</td>\n",
       "      <td>2014</td>\n",
       "      <td>Whole Year</td>\n",
       "      <td>Sugarcane</td>\n",
       "      <td>324.0</td>\n",
       "      <td>16250.0</td>\n",
       "    </tr>\n",
       "    <tr>\n",
       "      <th>246089</th>\n",
       "      <td>West Bengal</td>\n",
       "      <td>PURULIA</td>\n",
       "      <td>2014</td>\n",
       "      <td>Rabi</td>\n",
       "      <td>Rice</td>\n",
       "      <td>279151.0</td>\n",
       "      <td>597899.0</td>\n",
       "    </tr>\n",
       "    <tr>\n",
       "      <th>246090</th>\n",
       "      <td>West Bengal</td>\n",
       "      <td>PURULIA</td>\n",
       "      <td>2014</td>\n",
       "      <td>Rabi</td>\n",
       "      <td>Sesamum</td>\n",
       "      <td>175.0</td>\n",
       "      <td>88.0</td>\n",
       "    </tr>\n",
       "  </tbody>\n",
       "</table>\n",
       "<p>238723 rows × 7 columns</p>\n",
       "</div>"
      ],
      "text/plain": [
       "                         State_Name District_Name  Crop_Year      Season  \\\n",
       "0       Andaman and Nicobar Islands      NICOBARS       2000      Kharif   \n",
       "1       Andaman and Nicobar Islands      NICOBARS       2000      Kharif   \n",
       "2       Andaman and Nicobar Islands      NICOBARS       2000      Kharif   \n",
       "3       Andaman and Nicobar Islands      NICOBARS       2000  Whole Year   \n",
       "4       Andaman and Nicobar Islands      NICOBARS       2000  Whole Year   \n",
       "...                             ...           ...        ...         ...   \n",
       "246086                  West Bengal       PURULIA       2014      Kharif   \n",
       "246087                  West Bengal       PURULIA       2014      Kharif   \n",
       "246088                  West Bengal       PURULIA       2014  Whole Year   \n",
       "246089                  West Bengal       PURULIA       2014        Rabi   \n",
       "246090                  West Bengal       PURULIA       2014        Rabi   \n",
       "\n",
       "             Crop      Area  Production  \n",
       "0        Arecanut    1254.0      2000.0  \n",
       "1          pulses       2.0         1.0  \n",
       "2            Rice     102.0       321.0  \n",
       "3          Banana     176.0       641.0  \n",
       "4       Cashewnut     720.0       165.0  \n",
       "...           ...       ...         ...  \n",
       "246086       Rice     306.0       801.0  \n",
       "246087    Sesamum     627.0       463.0  \n",
       "246088  Sugarcane     324.0     16250.0  \n",
       "246089       Rice  279151.0    597899.0  \n",
       "246090    Sesamum     175.0        88.0  \n",
       "\n",
       "[238723 rows x 7 columns]"
      ]
     },
     "execution_count": 42,
     "metadata": {},
     "output_type": "execute_result"
    }
   ],
   "source": [
    "df"
   ]
  },
  {
   "cell_type": "markdown",
   "id": "b773ac5f",
   "metadata": {},
   "source": [
    "### Since india very big country for better vislization we will divide states name in four zone (East , West , North ,South)  details of these zones are mentioned below"
   ]
  },
  {
   "cell_type": "code",
   "execution_count": 43,
   "id": "ee308c69",
   "metadata": {},
   "outputs": [],
   "source": [
    "West_India= ['Maharashtra','Goa','Gujarat','Dadra and Nagar Haveli']\n",
    "East_India= ['Arunachal Pradesh','Assam','Manipur','Meghalaya','Mizoram','Nagaland','Sikkim','Tripura','West Bengal','Bihar','Odisha','Jharkhand' ]\n",
    "North_India=['Jammu and Kashmir ','Himachal Pradesh','Punjab','Uttarakhand','Haryana','Rajasthan','Uttar Pradesh','Chandigarh','Madhya Pradesh','Chhattisgarh']   # Delhi\n",
    "South_India = ['Andhra Pradesh','Karnataka','Kerala','Tamil Nadu','Telangana','Puducherry']"
   ]
  },
  {
   "cell_type": "code",
   "execution_count": 44,
   "id": "1433c5c5",
   "metadata": {},
   "outputs": [],
   "source": [
    "# creating a list for zones\n",
    "zone = []\n",
    "\n",
    "for d in df['State_Name']:\n",
    "    if d in West_India:\n",
    "         zone.append('West India')\n",
    "    elif d in East_India:\n",
    "         zone.append('EastIndia')\n",
    "    elif d in North_India:\n",
    "         zone.append('North India')\n",
    "    elif d in South_India: \n",
    "         zone.append('South India')\n",
    "    else:\n",
    "         zone.append('Union Territory')"
   ]
  },
  {
   "cell_type": "code",
   "execution_count": 45,
   "id": "2ac93e33",
   "metadata": {},
   "outputs": [
    {
     "data": {
      "text/html": [
       "<div>\n",
       "<style scoped>\n",
       "    .dataframe tbody tr th:only-of-type {\n",
       "        vertical-align: middle;\n",
       "    }\n",
       "\n",
       "    .dataframe tbody tr th {\n",
       "        vertical-align: top;\n",
       "    }\n",
       "\n",
       "    .dataframe thead th {\n",
       "        text-align: right;\n",
       "    }\n",
       "</style>\n",
       "<table border=\"1\" class=\"dataframe\">\n",
       "  <thead>\n",
       "    <tr style=\"text-align: right;\">\n",
       "      <th></th>\n",
       "      <th>State_Name</th>\n",
       "      <th>District_Name</th>\n",
       "      <th>Crop_Year</th>\n",
       "      <th>Season</th>\n",
       "      <th>Crop</th>\n",
       "      <th>Area</th>\n",
       "      <th>Production</th>\n",
       "    </tr>\n",
       "  </thead>\n",
       "  <tbody>\n",
       "    <tr>\n",
       "      <th>0</th>\n",
       "      <td>Andaman and Nicobar Islands</td>\n",
       "      <td>NICOBARS</td>\n",
       "      <td>2000</td>\n",
       "      <td>Kharif</td>\n",
       "      <td>Arecanut</td>\n",
       "      <td>1254.0</td>\n",
       "      <td>2000.0</td>\n",
       "    </tr>\n",
       "    <tr>\n",
       "      <th>1</th>\n",
       "      <td>Andaman and Nicobar Islands</td>\n",
       "      <td>NICOBARS</td>\n",
       "      <td>2000</td>\n",
       "      <td>Kharif</td>\n",
       "      <td>pulses</td>\n",
       "      <td>2.0</td>\n",
       "      <td>1.0</td>\n",
       "    </tr>\n",
       "    <tr>\n",
       "      <th>2</th>\n",
       "      <td>Andaman and Nicobar Islands</td>\n",
       "      <td>NICOBARS</td>\n",
       "      <td>2000</td>\n",
       "      <td>Kharif</td>\n",
       "      <td>Rice</td>\n",
       "      <td>102.0</td>\n",
       "      <td>321.0</td>\n",
       "    </tr>\n",
       "    <tr>\n",
       "      <th>3</th>\n",
       "      <td>Andaman and Nicobar Islands</td>\n",
       "      <td>NICOBARS</td>\n",
       "      <td>2000</td>\n",
       "      <td>Whole Year</td>\n",
       "      <td>Banana</td>\n",
       "      <td>176.0</td>\n",
       "      <td>641.0</td>\n",
       "    </tr>\n",
       "    <tr>\n",
       "      <th>4</th>\n",
       "      <td>Andaman and Nicobar Islands</td>\n",
       "      <td>NICOBARS</td>\n",
       "      <td>2000</td>\n",
       "      <td>Whole Year</td>\n",
       "      <td>Cashewnut</td>\n",
       "      <td>720.0</td>\n",
       "      <td>165.0</td>\n",
       "    </tr>\n",
       "    <tr>\n",
       "      <th>...</th>\n",
       "      <td>...</td>\n",
       "      <td>...</td>\n",
       "      <td>...</td>\n",
       "      <td>...</td>\n",
       "      <td>...</td>\n",
       "      <td>...</td>\n",
       "      <td>...</td>\n",
       "    </tr>\n",
       "    <tr>\n",
       "      <th>246086</th>\n",
       "      <td>West Bengal</td>\n",
       "      <td>PURULIA</td>\n",
       "      <td>2014</td>\n",
       "      <td>Kharif</td>\n",
       "      <td>Rice</td>\n",
       "      <td>306.0</td>\n",
       "      <td>801.0</td>\n",
       "    </tr>\n",
       "    <tr>\n",
       "      <th>246087</th>\n",
       "      <td>West Bengal</td>\n",
       "      <td>PURULIA</td>\n",
       "      <td>2014</td>\n",
       "      <td>Kharif</td>\n",
       "      <td>Sesamum</td>\n",
       "      <td>627.0</td>\n",
       "      <td>463.0</td>\n",
       "    </tr>\n",
       "    <tr>\n",
       "      <th>246088</th>\n",
       "      <td>West Bengal</td>\n",
       "      <td>PURULIA</td>\n",
       "      <td>2014</td>\n",
       "      <td>Whole Year</td>\n",
       "      <td>Sugarcane</td>\n",
       "      <td>324.0</td>\n",
       "      <td>16250.0</td>\n",
       "    </tr>\n",
       "    <tr>\n",
       "      <th>246089</th>\n",
       "      <td>West Bengal</td>\n",
       "      <td>PURULIA</td>\n",
       "      <td>2014</td>\n",
       "      <td>Rabi</td>\n",
       "      <td>Rice</td>\n",
       "      <td>279151.0</td>\n",
       "      <td>597899.0</td>\n",
       "    </tr>\n",
       "    <tr>\n",
       "      <th>246090</th>\n",
       "      <td>West Bengal</td>\n",
       "      <td>PURULIA</td>\n",
       "      <td>2014</td>\n",
       "      <td>Rabi</td>\n",
       "      <td>Sesamum</td>\n",
       "      <td>175.0</td>\n",
       "      <td>88.0</td>\n",
       "    </tr>\n",
       "  </tbody>\n",
       "</table>\n",
       "<p>238723 rows × 7 columns</p>\n",
       "</div>"
      ],
      "text/plain": [
       "                         State_Name District_Name  Crop_Year      Season  \\\n",
       "0       Andaman and Nicobar Islands      NICOBARS       2000      Kharif   \n",
       "1       Andaman and Nicobar Islands      NICOBARS       2000      Kharif   \n",
       "2       Andaman and Nicobar Islands      NICOBARS       2000      Kharif   \n",
       "3       Andaman and Nicobar Islands      NICOBARS       2000  Whole Year   \n",
       "4       Andaman and Nicobar Islands      NICOBARS       2000  Whole Year   \n",
       "...                             ...           ...        ...         ...   \n",
       "246086                  West Bengal       PURULIA       2014      Kharif   \n",
       "246087                  West Bengal       PURULIA       2014      Kharif   \n",
       "246088                  West Bengal       PURULIA       2014  Whole Year   \n",
       "246089                  West Bengal       PURULIA       2014        Rabi   \n",
       "246090                  West Bengal       PURULIA       2014        Rabi   \n",
       "\n",
       "             Crop      Area  Production  \n",
       "0        Arecanut    1254.0      2000.0  \n",
       "1          pulses       2.0         1.0  \n",
       "2            Rice     102.0       321.0  \n",
       "3          Banana     176.0       641.0  \n",
       "4       Cashewnut     720.0       165.0  \n",
       "...           ...       ...         ...  \n",
       "246086       Rice     306.0       801.0  \n",
       "246087    Sesamum     627.0       463.0  \n",
       "246088  Sugarcane     324.0     16250.0  \n",
       "246089       Rice  279151.0    597899.0  \n",
       "246090    Sesamum     175.0        88.0  \n",
       "\n",
       "[238723 rows x 7 columns]"
      ]
     },
     "execution_count": 45,
     "metadata": {},
     "output_type": "execute_result"
    }
   ],
   "source": [
    "df"
   ]
  },
  {
   "cell_type": "code",
   "execution_count": 46,
   "id": "218d179a",
   "metadata": {},
   "outputs": [],
   "source": [
    "# creatinh new column \n",
    "df['zone'] = zone"
   ]
  },
  {
   "cell_type": "code",
   "execution_count": 47,
   "id": "25e2f0f6",
   "metadata": {},
   "outputs": [
    {
     "data": {
      "text/html": [
       "<div>\n",
       "<style scoped>\n",
       "    .dataframe tbody tr th:only-of-type {\n",
       "        vertical-align: middle;\n",
       "    }\n",
       "\n",
       "    .dataframe tbody tr th {\n",
       "        vertical-align: top;\n",
       "    }\n",
       "\n",
       "    .dataframe thead th {\n",
       "        text-align: right;\n",
       "    }\n",
       "</style>\n",
       "<table border=\"1\" class=\"dataframe\">\n",
       "  <thead>\n",
       "    <tr style=\"text-align: right;\">\n",
       "      <th></th>\n",
       "      <th>State_Name</th>\n",
       "      <th>District_Name</th>\n",
       "      <th>Crop_Year</th>\n",
       "      <th>Season</th>\n",
       "      <th>Crop</th>\n",
       "      <th>Area</th>\n",
       "      <th>Production</th>\n",
       "      <th>zone</th>\n",
       "    </tr>\n",
       "  </thead>\n",
       "  <tbody>\n",
       "    <tr>\n",
       "      <th>0</th>\n",
       "      <td>Andaman and Nicobar Islands</td>\n",
       "      <td>NICOBARS</td>\n",
       "      <td>2000</td>\n",
       "      <td>Kharif</td>\n",
       "      <td>Arecanut</td>\n",
       "      <td>1254.0</td>\n",
       "      <td>2000.0</td>\n",
       "      <td>Union Territory</td>\n",
       "    </tr>\n",
       "    <tr>\n",
       "      <th>1</th>\n",
       "      <td>Andaman and Nicobar Islands</td>\n",
       "      <td>NICOBARS</td>\n",
       "      <td>2000</td>\n",
       "      <td>Kharif</td>\n",
       "      <td>pulses</td>\n",
       "      <td>2.0</td>\n",
       "      <td>1.0</td>\n",
       "      <td>Union Territory</td>\n",
       "    </tr>\n",
       "    <tr>\n",
       "      <th>2</th>\n",
       "      <td>Andaman and Nicobar Islands</td>\n",
       "      <td>NICOBARS</td>\n",
       "      <td>2000</td>\n",
       "      <td>Kharif</td>\n",
       "      <td>Rice</td>\n",
       "      <td>102.0</td>\n",
       "      <td>321.0</td>\n",
       "      <td>Union Territory</td>\n",
       "    </tr>\n",
       "    <tr>\n",
       "      <th>3</th>\n",
       "      <td>Andaman and Nicobar Islands</td>\n",
       "      <td>NICOBARS</td>\n",
       "      <td>2000</td>\n",
       "      <td>Whole Year</td>\n",
       "      <td>Banana</td>\n",
       "      <td>176.0</td>\n",
       "      <td>641.0</td>\n",
       "      <td>Union Territory</td>\n",
       "    </tr>\n",
       "    <tr>\n",
       "      <th>4</th>\n",
       "      <td>Andaman and Nicobar Islands</td>\n",
       "      <td>NICOBARS</td>\n",
       "      <td>2000</td>\n",
       "      <td>Whole Year</td>\n",
       "      <td>Cashewnut</td>\n",
       "      <td>720.0</td>\n",
       "      <td>165.0</td>\n",
       "      <td>Union Territory</td>\n",
       "    </tr>\n",
       "    <tr>\n",
       "      <th>...</th>\n",
       "      <td>...</td>\n",
       "      <td>...</td>\n",
       "      <td>...</td>\n",
       "      <td>...</td>\n",
       "      <td>...</td>\n",
       "      <td>...</td>\n",
       "      <td>...</td>\n",
       "      <td>...</td>\n",
       "    </tr>\n",
       "    <tr>\n",
       "      <th>246086</th>\n",
       "      <td>West Bengal</td>\n",
       "      <td>PURULIA</td>\n",
       "      <td>2014</td>\n",
       "      <td>Kharif</td>\n",
       "      <td>Rice</td>\n",
       "      <td>306.0</td>\n",
       "      <td>801.0</td>\n",
       "      <td>EastIndia</td>\n",
       "    </tr>\n",
       "    <tr>\n",
       "      <th>246087</th>\n",
       "      <td>West Bengal</td>\n",
       "      <td>PURULIA</td>\n",
       "      <td>2014</td>\n",
       "      <td>Kharif</td>\n",
       "      <td>Sesamum</td>\n",
       "      <td>627.0</td>\n",
       "      <td>463.0</td>\n",
       "      <td>EastIndia</td>\n",
       "    </tr>\n",
       "    <tr>\n",
       "      <th>246088</th>\n",
       "      <td>West Bengal</td>\n",
       "      <td>PURULIA</td>\n",
       "      <td>2014</td>\n",
       "      <td>Whole Year</td>\n",
       "      <td>Sugarcane</td>\n",
       "      <td>324.0</td>\n",
       "      <td>16250.0</td>\n",
       "      <td>EastIndia</td>\n",
       "    </tr>\n",
       "    <tr>\n",
       "      <th>246089</th>\n",
       "      <td>West Bengal</td>\n",
       "      <td>PURULIA</td>\n",
       "      <td>2014</td>\n",
       "      <td>Rabi</td>\n",
       "      <td>Rice</td>\n",
       "      <td>279151.0</td>\n",
       "      <td>597899.0</td>\n",
       "      <td>EastIndia</td>\n",
       "    </tr>\n",
       "    <tr>\n",
       "      <th>246090</th>\n",
       "      <td>West Bengal</td>\n",
       "      <td>PURULIA</td>\n",
       "      <td>2014</td>\n",
       "      <td>Rabi</td>\n",
       "      <td>Sesamum</td>\n",
       "      <td>175.0</td>\n",
       "      <td>88.0</td>\n",
       "      <td>EastIndia</td>\n",
       "    </tr>\n",
       "  </tbody>\n",
       "</table>\n",
       "<p>238723 rows × 8 columns</p>\n",
       "</div>"
      ],
      "text/plain": [
       "                         State_Name District_Name  Crop_Year      Season  \\\n",
       "0       Andaman and Nicobar Islands      NICOBARS       2000      Kharif   \n",
       "1       Andaman and Nicobar Islands      NICOBARS       2000      Kharif   \n",
       "2       Andaman and Nicobar Islands      NICOBARS       2000      Kharif   \n",
       "3       Andaman and Nicobar Islands      NICOBARS       2000  Whole Year   \n",
       "4       Andaman and Nicobar Islands      NICOBARS       2000  Whole Year   \n",
       "...                             ...           ...        ...         ...   \n",
       "246086                  West Bengal       PURULIA       2014      Kharif   \n",
       "246087                  West Bengal       PURULIA       2014      Kharif   \n",
       "246088                  West Bengal       PURULIA       2014  Whole Year   \n",
       "246089                  West Bengal       PURULIA       2014        Rabi   \n",
       "246090                  West Bengal       PURULIA       2014        Rabi   \n",
       "\n",
       "             Crop      Area  Production             zone  \n",
       "0        Arecanut    1254.0      2000.0  Union Territory  \n",
       "1          pulses       2.0         1.0  Union Territory  \n",
       "2            Rice     102.0       321.0  Union Territory  \n",
       "3          Banana     176.0       641.0  Union Territory  \n",
       "4       Cashewnut     720.0       165.0  Union Territory  \n",
       "...           ...       ...         ...              ...  \n",
       "246086       Rice     306.0       801.0        EastIndia  \n",
       "246087    Sesamum     627.0       463.0        EastIndia  \n",
       "246088  Sugarcane     324.0     16250.0        EastIndia  \n",
       "246089       Rice  279151.0    597899.0        EastIndia  \n",
       "246090    Sesamum     175.0        88.0        EastIndia  \n",
       "\n",
       "[238723 rows x 8 columns]"
      ]
     },
     "execution_count": 47,
     "metadata": {},
     "output_type": "execute_result"
    }
   ],
   "source": [
    "df"
   ]
  },
  {
   "cell_type": "code",
   "execution_count": 48,
   "id": "7c54dea2",
   "metadata": {},
   "outputs": [
    {
     "data": {
      "text/plain": [
       "North India        92752\n",
       "EastIndia          71482\n",
       "South India        47554\n",
       "West India         21229\n",
       "Union Territory     5706\n",
       "Name: zone, dtype: int64"
      ]
     },
     "execution_count": 48,
     "metadata": {},
     "output_type": "execute_result"
    }
   ],
   "source": [
    "df['zone'].value_counts()"
   ]
  },
  {
   "cell_type": "code",
   "execution_count": 49,
   "id": "edf6da2e",
   "metadata": {},
   "outputs": [
    {
     "data": {
      "text/plain": [
       "2003    15541\n",
       "2002    15060\n",
       "2007    14261\n",
       "2008    14230\n",
       "2006    13976\n",
       "2004    13834\n",
       "2010    13793\n",
       "2011    13791\n",
       "2009    13767\n",
       "2005    13519\n",
       "2013    13474\n",
       "2000    13393\n",
       "2012    13183\n",
       "2001    13107\n",
       "1999    12258\n",
       "1998    11262\n",
       "2014    10814\n",
       "1997     8899\n",
       "2015      561\n",
       "Name: Crop_Year, dtype: int64"
      ]
     },
     "execution_count": 49,
     "metadata": {},
     "output_type": "execute_result"
    }
   ],
   "source": [
    "# checking value counts of year in dataset\n",
    "\n",
    "df['Crop_Year'].value_counts()"
   ]
  },
  {
   "cell_type": "code",
   "execution_count": 50,
   "id": "312ae0fe",
   "metadata": {},
   "outputs": [],
   "source": [
    "x=df['Production'].value_counts()"
   ]
  },
  {
   "cell_type": "code",
   "execution_count": 58,
   "id": "87cc56e6",
   "metadata": {},
   "outputs": [],
   "source": [
    "val=df.groupby('Crop').sum().sort_values(by='Production',ascending = False)['Production'].values\n",
    "lab=df.groupby('Crop').sum().sort_values(by='Production',ascending = False)['Production'].index"
   ]
  },
  {
   "cell_type": "code",
   "execution_count": 59,
   "id": "5619ae21",
   "metadata": {},
   "outputs": [
    {
     "data": {
      "image/png": "[encoded data removed]",
      "text/plain": [
       "<Figure size 720x576 with 1 Axes>"
      ]
     },
     "metadata": {},
     "output_type": "display_data"
    }
   ],
   "source": [
    "# we plotted pie chart of Production of different crops to check the outliers in crops\n",
    "plt.figure(figsize=(10,8))\n",
    "plt.pie(val,labels=lab,autopct='%0.1f%%')\n",
    "plt.show()"
   ]
  },
  {
   "cell_type": "markdown",
   "id": "a56436d1",
   "metadata": {},
   "source": [
    "### we have observed that Production of coconut is more than 92% of total Production so we not able to visualize our dataset so we have decided to visualize coconut separately"
   ]
  },
  {
   "cell_type": "code",
   "execution_count": 60,
   "id": "25d626bb",
   "metadata": {},
   "outputs": [],
   "source": [
    "coconut_df = df[df['Crop'] == 'Coconut']\n",
    "\n",
    "coconut_df.to_csv('coconut_df.csv')\n",
    "\n",
    "df.drop(df[df['Crop']=='Coconut'].index,inplace=True)"
   ]
  },
  {
   "cell_type": "code",
   "execution_count": 61,
   "id": "8a5baef8",
   "metadata": {},
   "outputs": [
    {
     "data": {
      "text/html": [
       "<div>\n",
       "<style scoped>\n",
       "    .dataframe tbody tr th:only-of-type {\n",
       "        vertical-align: middle;\n",
       "    }\n",
       "\n",
       "    .dataframe tbody tr th {\n",
       "        vertical-align: top;\n",
       "    }\n",
       "\n",
       "    .dataframe thead th {\n",
       "        text-align: right;\n",
       "    }\n",
       "</style>\n",
       "<table border=\"1\" class=\"dataframe\">\n",
       "  <thead>\n",
       "    <tr style=\"text-align: right;\">\n",
       "      <th></th>\n",
       "      <th>State_Name</th>\n",
       "      <th>District_Name</th>\n",
       "      <th>Crop_Year</th>\n",
       "      <th>Season</th>\n",
       "      <th>Crop</th>\n",
       "      <th>Area</th>\n",
       "      <th>Production</th>\n",
       "      <th>zone</th>\n",
       "    </tr>\n",
       "  </thead>\n",
       "  <tbody>\n",
       "    <tr>\n",
       "      <th>0</th>\n",
       "      <td>Andaman and Nicobar Islands</td>\n",
       "      <td>NICOBARS</td>\n",
       "      <td>2000</td>\n",
       "      <td>Kharif</td>\n",
       "      <td>Arecanut</td>\n",
       "      <td>1254.0</td>\n",
       "      <td>2000.0</td>\n",
       "      <td>Union Territory</td>\n",
       "    </tr>\n",
       "    <tr>\n",
       "      <th>1</th>\n",
       "      <td>Andaman and Nicobar Islands</td>\n",
       "      <td>NICOBARS</td>\n",
       "      <td>2000</td>\n",
       "      <td>Kharif</td>\n",
       "      <td>pulses</td>\n",
       "      <td>2.0</td>\n",
       "      <td>1.0</td>\n",
       "      <td>Union Territory</td>\n",
       "    </tr>\n",
       "    <tr>\n",
       "      <th>2</th>\n",
       "      <td>Andaman and Nicobar Islands</td>\n",
       "      <td>NICOBARS</td>\n",
       "      <td>2000</td>\n",
       "      <td>Kharif</td>\n",
       "      <td>Rice</td>\n",
       "      <td>102.0</td>\n",
       "      <td>321.0</td>\n",
       "      <td>Union Territory</td>\n",
       "    </tr>\n",
       "    <tr>\n",
       "      <th>3</th>\n",
       "      <td>Andaman and Nicobar Islands</td>\n",
       "      <td>NICOBARS</td>\n",
       "      <td>2000</td>\n",
       "      <td>Whole Year</td>\n",
       "      <td>Banana</td>\n",
       "      <td>176.0</td>\n",
       "      <td>641.0</td>\n",
       "      <td>Union Territory</td>\n",
       "    </tr>\n",
       "    <tr>\n",
       "      <th>4</th>\n",
       "      <td>Andaman and Nicobar Islands</td>\n",
       "      <td>NICOBARS</td>\n",
       "      <td>2000</td>\n",
       "      <td>Whole Year</td>\n",
       "      <td>Cashewnut</td>\n",
       "      <td>720.0</td>\n",
       "      <td>165.0</td>\n",
       "      <td>Union Territory</td>\n",
       "    </tr>\n",
       "    <tr>\n",
       "      <th>...</th>\n",
       "      <td>...</td>\n",
       "      <td>...</td>\n",
       "      <td>...</td>\n",
       "      <td>...</td>\n",
       "      <td>...</td>\n",
       "      <td>...</td>\n",
       "      <td>...</td>\n",
       "      <td>...</td>\n",
       "    </tr>\n",
       "    <tr>\n",
       "      <th>246086</th>\n",
       "      <td>West Bengal</td>\n",
       "      <td>PURULIA</td>\n",
       "      <td>2014</td>\n",
       "      <td>Kharif</td>\n",
       "      <td>Rice</td>\n",
       "      <td>306.0</td>\n",
       "      <td>801.0</td>\n",
       "      <td>EastIndia</td>\n",
       "    </tr>\n",
       "    <tr>\n",
       "      <th>246087</th>\n",
       "      <td>West Bengal</td>\n",
       "      <td>PURULIA</td>\n",
       "      <td>2014</td>\n",
       "      <td>Kharif</td>\n",
       "      <td>Sesamum</td>\n",
       "      <td>627.0</td>\n",
       "      <td>463.0</td>\n",
       "      <td>EastIndia</td>\n",
       "    </tr>\n",
       "    <tr>\n",
       "      <th>246088</th>\n",
       "      <td>West Bengal</td>\n",
       "      <td>PURULIA</td>\n",
       "      <td>2014</td>\n",
       "      <td>Whole Year</td>\n",
       "      <td>Sugarcane</td>\n",
       "      <td>324.0</td>\n",
       "      <td>16250.0</td>\n",
       "      <td>EastIndia</td>\n",
       "    </tr>\n",
       "    <tr>\n",
       "      <th>246089</th>\n",
       "      <td>West Bengal</td>\n",
       "      <td>PURULIA</td>\n",
       "      <td>2014</td>\n",
       "      <td>Rabi</td>\n",
       "      <td>Rice</td>\n",
       "      <td>279151.0</td>\n",
       "      <td>597899.0</td>\n",
       "      <td>EastIndia</td>\n",
       "    </tr>\n",
       "    <tr>\n",
       "      <th>246090</th>\n",
       "      <td>West Bengal</td>\n",
       "      <td>PURULIA</td>\n",
       "      <td>2014</td>\n",
       "      <td>Rabi</td>\n",
       "      <td>Sesamum</td>\n",
       "      <td>175.0</td>\n",
       "      <td>88.0</td>\n",
       "      <td>EastIndia</td>\n",
       "    </tr>\n",
       "  </tbody>\n",
       "</table>\n",
       "<p>236766 rows × 8 columns</p>\n",
       "</div>"
      ],
      "text/plain": [
       "                         State_Name District_Name  Crop_Year      Season  \\\n",
       "0       Andaman and Nicobar Islands      NICOBARS       2000      Kharif   \n",
       "1       Andaman and Nicobar Islands      NICOBARS       2000      Kharif   \n",
       "2       Andaman and Nicobar Islands      NICOBARS       2000      Kharif   \n",
       "3       Andaman and Nicobar Islands      NICOBARS       2000  Whole Year   \n",
       "4       Andaman and Nicobar Islands      NICOBARS       2000  Whole Year   \n",
       "...                             ...           ...        ...         ...   \n",
       "246086                  West Bengal       PURULIA       2014      Kharif   \n",
       "246087                  West Bengal       PURULIA       2014      Kharif   \n",
       "246088                  West Bengal       PURULIA       2014  Whole Year   \n",
       "246089                  West Bengal       PURULIA       2014        Rabi   \n",
       "246090                  West Bengal       PURULIA       2014        Rabi   \n",
       "\n",
       "             Crop      Area  Production             zone  \n",
       "0        Arecanut    1254.0      2000.0  Union Territory  \n",
       "1          pulses       2.0         1.0  Union Territory  \n",
       "2            Rice     102.0       321.0  Union Territory  \n",
       "3          Banana     176.0       641.0  Union Territory  \n",
       "4       Cashewnut     720.0       165.0  Union Territory  \n",
       "...           ...       ...         ...              ...  \n",
       "246086       Rice     306.0       801.0        EastIndia  \n",
       "246087    Sesamum     627.0       463.0        EastIndia  \n",
       "246088  Sugarcane     324.0     16250.0        EastIndia  \n",
       "246089       Rice  279151.0    597899.0        EastIndia  \n",
       "246090    Sesamum     175.0        88.0        EastIndia  \n",
       "\n",
       "[236766 rows x 8 columns]"
      ]
     },
     "execution_count": 61,
     "metadata": {},
     "output_type": "execute_result"
    }
   ],
   "source": [
    "df"
   ]
  },
  {
   "cell_type": "code",
   "execution_count": 62,
   "id": "ce5c1d8d",
   "metadata": {},
   "outputs": [
    {
     "data": {
      "text/plain": [
       "<AxesSubplot:ylabel='Production'>"
      ]
     },
     "execution_count": 62,
     "metadata": {},
     "output_type": "execute_result"
    },
    {
     "data": {
      "image/png": "[encoded data removed]",
      "text/plain": [
       "<Figure size 1440x2160 with 1 Axes>"
      ]
     },
     "metadata": {},
     "output_type": "display_data"
    }
   ],
   "source": [
    "df.groupby(['Crop']).sum().plot(kind='pie', y='Production', autopct='%1.0f%%',figsize=(20,30))\n"
   ]
  },
  {
   "cell_type": "code",
   "execution_count": 63,
   "id": "73d926cb",
   "metadata": {},
   "outputs": [],
   "source": [
    "df.to_csv('crop.csv')"
   ]
  },
  {
   "cell_type": "code",
   "execution_count": null,
   "id": "a2a1b169",
   "metadata": {},
   "outputs": [],
   "source": []
  }
 ],
 "metadata": {
  "kernelspec": {
   "display_name": "Python 3",
   "language": "python",
   "name": "python3"
  },
  "language_info": {
   "codemirror_mode": {
    "name": "ipython",
    "version": 3
   },
   "file_extension": ".py",
   "mimetype": "text/x-python",
   "name": "python",
   "nbconvert_exporter": "python",
   "pygments_lexer": "ipython3",
   "version": "3.8.8"
  }
 },
 "nbformat": 4,
 "nbformat_minor": 5
}
